{
 "cells": [
  {
   "cell_type": "code",
   "execution_count": 1,
   "id": "19803c5d",
   "metadata": {
    "execution": {
     "iopub.execute_input": "2022-11-28T18:49:25.672561Z",
     "iopub.status.busy": "2022-11-28T18:49:25.671835Z",
     "iopub.status.idle": "2022-11-28T18:49:28.346781Z",
     "shell.execute_reply": "2022-11-28T18:49:28.345442Z"
    },
    "papermill": {
     "duration": 2.696152,
     "end_time": "2022-11-28T18:49:28.349900",
     "exception": false,
     "start_time": "2022-11-28T18:49:25.653748",
     "status": "completed"
    },
    "tags": []
   },
   "outputs": [
    {
     "name": "stdout",
     "output_type": "stream",
     "text": [
      "We will use RAPIDS version 22.10.00a+392.g1558403753\n",
      "INFO: Pandarallel will run on 4 workers.\n",
      "INFO: Pandarallel will use standard multiprocessing data transfer (pipe) to transfer data between the main process and workers.\n"
     ]
    }
   ],
   "source": [
    "VER = 6\n",
    "\n",
    "import pandas as pd, numpy as np\n",
    "from tqdm.notebook import tqdm\n",
    "tqdm.pandas()\n",
    "\n",
    "import os, sys, pickle, glob, gc\n",
    "from collections import Counter\n",
    "import cudf, itertools\n",
    "print('We will use RAPIDS version',cudf.__version__)\n",
    "\n",
    "pd.set_option('display.max_rows', 500)\n",
    "pd.set_option('display.max_columns', 500)\n",
    "\n",
    "from pandarallel import pandarallel\n",
    "\n",
    "pandarallel.initialize(nb_workers=4, progress_bar=True, use_memory_fs=False)\n",
    "\n",
    "import xgboost as xgb\n",
    "from sklearn.model_selection import GroupKFold"
   ]
  },
  {
   "cell_type": "markdown",
   "id": "e2505537",
   "metadata": {
    "papermill": {
     "duration": 0.020472,
     "end_time": "2022-11-28T18:57:43.433117",
     "exception": false,
     "start_time": "2022-11-28T18:57:43.412645",
     "status": "completed"
    },
    "tags": []
   },
   "source": [
    "# Training"
   ]
  },
  {
   "cell_type": "code",
   "execution_count": 2,
   "id": "e70b81b7",
   "metadata": {},
   "outputs": [],
   "source": [
    "type_labels = {'clicks':0, 'carts':1, 'orders':2}"
   ]
  },
  {
   "cell_type": "code",
   "execution_count": 3,
   "id": "cf01ab42",
   "metadata": {},
   "outputs": [],
   "source": [
    "CANDIDATE_COUNT = 50"
   ]
  },
  {
   "cell_type": "markdown",
   "id": "988d59c2",
   "metadata": {},
   "source": [
    "## For each action"
   ]
  },
  {
   "cell_type": "code",
   "execution_count": 4,
   "id": "ede33468",
   "metadata": {},
   "outputs": [
    {
     "data": {
      "application/vnd.jupyter.widget-view+json": {
       "model_id": "916b5f4105924d67b783edc0f9479d88",
       "version_major": 2,
       "version_minor": 0
      },
      "text/plain": [
       "  0%|          | 0/3 [00:00<?, ?it/s]"
      ]
     },
     "metadata": {},
     "output_type": "display_data"
    },
    {
     "name": "stdout",
     "output_type": "stream",
     "text": [
      "[0]\ttrain-map:0.81924\tvalid-map:0.81961\n",
      "[100]\ttrain-map:0.82231\tvalid-map:0.82244\n",
      "[200]\ttrain-map:0.82282\tvalid-map:0.82272\n",
      "[300]\ttrain-map:0.82332\tvalid-map:0.82305\n",
      "[400]\ttrain-map:0.82373\tvalid-map:0.82339\n",
      "[499]\ttrain-map:0.82404\tvalid-map:0.82356\n",
      "[0]\ttrain-map:0.81930\tvalid-map:0.81915\n",
      "[100]\ttrain-map:0.82229\tvalid-map:0.82224\n",
      "[200]\ttrain-map:0.82285\tvalid-map:0.82247\n",
      "[300]\ttrain-map:0.82338\tvalid-map:0.82296\n",
      "[400]\ttrain-map:0.82375\tvalid-map:0.82326\n",
      "[499]\ttrain-map:0.82405\tvalid-map:0.82349\n",
      "[0]\ttrain-map:0.81937\tvalid-map:0.81927\n",
      "[100]\ttrain-map:0.82227\tvalid-map:0.82205\n",
      "[200]\ttrain-map:0.82280\tvalid-map:0.82245\n",
      "[300]\ttrain-map:0.82332\tvalid-map:0.82287\n",
      "[400]\ttrain-map:0.82373\tvalid-map:0.82319\n",
      "[499]\ttrain-map:0.82407\tvalid-map:0.82340\n",
      "[0]\ttrain-map:0.81922\tvalid-map:0.81984\n",
      "[100]\ttrain-map:0.82216\tvalid-map:0.82280\n",
      "[200]\ttrain-map:0.82268\tvalid-map:0.82331\n",
      "[300]\ttrain-map:0.82317\tvalid-map:0.82370\n",
      "[400]\ttrain-map:0.82359\tvalid-map:0.82402\n",
      "[499]\ttrain-map:0.82386\tvalid-map:0.82421\n",
      "[0]\ttrain-map:0.81944\tvalid-map:0.81856\n",
      "[100]\ttrain-map:0.82252\tvalid-map:0.82166\n",
      "[200]\ttrain-map:0.82295\tvalid-map:0.82211\n",
      "[300]\ttrain-map:0.82352\tvalid-map:0.82260\n",
      "[400]\ttrain-map:0.82386\tvalid-map:0.82291\n",
      "[499]\ttrain-map:0.82416\tvalid-map:0.82311\n",
      "[0]\ttrain-map:0.97269\tvalid-map:0.97254\n",
      "[100]\ttrain-map:0.97407\tvalid-map:0.97385\n",
      "[200]\ttrain-map:0.97437\tvalid-map:0.97409\n",
      "[300]\ttrain-map:0.97451\tvalid-map:0.97412\n",
      "[400]\ttrain-map:0.97464\tvalid-map:0.97417\n",
      "[499]\ttrain-map:0.97476\tvalid-map:0.97421\n",
      "[0]\ttrain-map:0.97274\tvalid-map:0.97248\n",
      "[100]\ttrain-map:0.97407\tvalid-map:0.97381\n",
      "[200]\ttrain-map:0.97438\tvalid-map:0.97404\n",
      "[300]\ttrain-map:0.97452\tvalid-map:0.97410\n",
      "[400]\ttrain-map:0.97467\tvalid-map:0.97412\n",
      "[499]\ttrain-map:0.97479\tvalid-map:0.97416\n",
      "[0]\ttrain-map:0.97256\tvalid-map:0.97303\n",
      "[100]\ttrain-map:0.97389\tvalid-map:0.97440\n",
      "[200]\ttrain-map:0.97421\tvalid-map:0.97465\n",
      "[300]\ttrain-map:0.97437\tvalid-map:0.97469\n",
      "[400]\ttrain-map:0.97450\tvalid-map:0.97469\n",
      "[499]\ttrain-map:0.97462\tvalid-map:0.97471\n",
      "[0]\ttrain-map:0.97262\tvalid-map:0.97242\n",
      "[100]\ttrain-map:0.97408\tvalid-map:0.97379\n",
      "[200]\ttrain-map:0.97438\tvalid-map:0.97398\n",
      "[300]\ttrain-map:0.97454\tvalid-map:0.97405\n",
      "[400]\ttrain-map:0.97469\tvalid-map:0.97407\n",
      "[499]\ttrain-map:0.97480\tvalid-map:0.97409\n",
      "[0]\ttrain-map:0.97260\tvalid-map:0.97257\n",
      "[100]\ttrain-map:0.97405\tvalid-map:0.97382\n",
      "[200]\ttrain-map:0.97438\tvalid-map:0.97402\n",
      "[300]\ttrain-map:0.97454\tvalid-map:0.97407\n",
      "[400]\ttrain-map:0.97467\tvalid-map:0.97410\n",
      "[499]\ttrain-map:0.97478\tvalid-map:0.97410\n",
      "[0]\ttrain-map:0.99076\tvalid-map:0.99066\n",
      "[100]\ttrain-map:0.99199\tvalid-map:0.99180\n",
      "[200]\ttrain-map:0.99217\tvalid-map:0.99191\n",
      "[300]\ttrain-map:0.99230\tvalid-map:0.99194\n",
      "[400]\ttrain-map:0.99240\tvalid-map:0.99194\n",
      "[499]\ttrain-map:0.99249\tvalid-map:0.99197\n",
      "[0]\ttrain-map:0.99075\tvalid-map:0.99077\n",
      "[100]\ttrain-map:0.99194\tvalid-map:0.99203\n",
      "[200]\ttrain-map:0.99214\tvalid-map:0.99211\n",
      "[300]\ttrain-map:0.99226\tvalid-map:0.99213\n",
      "[400]\ttrain-map:0.99237\tvalid-map:0.99212\n",
      "[499]\ttrain-map:0.99246\tvalid-map:0.99211\n",
      "[0]\ttrain-map:0.99086\tvalid-map:0.99066\n",
      "[100]\ttrain-map:0.99202\tvalid-map:0.99167\n",
      "[200]\ttrain-map:0.99222\tvalid-map:0.99177\n",
      "[300]\ttrain-map:0.99233\tvalid-map:0.99179\n",
      "[400]\ttrain-map:0.99243\tvalid-map:0.99180\n",
      "[499]\ttrain-map:0.99253\tvalid-map:0.99180\n",
      "[0]\ttrain-map:0.99077\tvalid-map:0.99076\n",
      "[100]\ttrain-map:0.99195\tvalid-map:0.99192\n",
      "[200]\ttrain-map:0.99215\tvalid-map:0.99206\n",
      "[300]\ttrain-map:0.99228\tvalid-map:0.99209\n",
      "[400]\ttrain-map:0.99238\tvalid-map:0.99211\n",
      "[499]\ttrain-map:0.99247\tvalid-map:0.99210\n",
      "[0]\ttrain-map:0.99073\tvalid-map:0.99093\n",
      "[100]\ttrain-map:0.99192\tvalid-map:0.99207\n",
      "[200]\ttrain-map:0.99213\tvalid-map:0.99216\n",
      "[300]\ttrain-map:0.99225\tvalid-map:0.99218\n",
      "[400]\ttrain-map:0.99235\tvalid-map:0.99219\n",
      "[499]\ttrain-map:0.99244\tvalid-map:0.99217\n"
     ]
    }
   ],
   "source": [
    "for type_str in tqdm(list(type_labels.keys())):\n",
    "    \n",
    "    whole_df = pd.read_parquet(f\"./candidated_features/local_{type_str}_all_data.pqt\")\n",
    "    \n",
    "    FEATURES = whole_df.columns[2 : -1]\n",
    "        \n",
    "    positives = whole_df.loc[whole_df['label']==1]\n",
    "    negatives = whole_df.loc[whole_df['label']==0].sample(frac=0.275,\n",
    "                                                          random_state=1337)\n",
    "    whole_df = pd.concat([positives,negatives], axis=0, ignore_index=True)\n",
    "    \n",
    "    whole_df = whole_df.sort_values('session').reset_index(drop=True)\n",
    "    whole_df[\"group_count\"] = whole_df.groupby('session', sort=False).cumcount('candidates') + 1\n",
    "    \n",
    "    skf = GroupKFold(n_splits=5)\n",
    "    for fold, (train_idx, valid_idx) in enumerate(skf.split(whole_df,\n",
    "                                                            whole_df['label'],\n",
    "                                                            groups=whole_df['session'])):\n",
    "        X_train = whole_df.loc[train_idx, FEATURES]\n",
    "        y_train = whole_df.loc[train_idx, 'label']\n",
    "        X_valid = whole_df.loc[valid_idx, FEATURES]\n",
    "        y_valid = whole_df.loc[valid_idx, 'label']\n",
    "\n",
    "        train_groups = whole_df.loc[train_idx, ['session', 'group_count']].groupby('session')['group_count'].last().to_numpy()\n",
    "        val_groups = whole_df.loc[valid_idx, ['session', 'group_count']].groupby('session')['group_count'].last().to_numpy()\n",
    "        \n",
    "        dtrain = xgb.DMatrix(X_train, y_train, group = train_groups) \n",
    "        dvalid = xgb.DMatrix(X_valid, y_valid, group = val_groups) \n",
    "\n",
    "        xgb_parms = {'objective':'rank:pairwise',\n",
    "                     'tree_method':'gpu_hist',\n",
    "                    \"random_state\":42, \n",
    "                    \"learning_rate\":0.1,\n",
    "                    \"colsample_bytree\":0.9, \n",
    "                    \"eta\":0.05, \n",
    "                    \"max_depth\":5, \n",
    "                    \"subsample\":0.8 }\n",
    "        model = xgb.train(xgb_parms,\n",
    "                          dtrain=dtrain,\n",
    "                          evals=[(dtrain,'train'),(dvalid,'valid')],\n",
    "                          num_boost_round=500,\n",
    "#                           early_stopping_rounds=400,\n",
    "                          verbose_eval=100)\n",
    "        \n",
    "        model.save_model(f'./models/XGB_{CANDIDATE_COUNT}candidates_fold{fold}_{type_str}.xgb')\n",
    "        \n",
    "        del model, dtrain, dvalid, X_train, y_train, X_valid, y_valid\n",
    "        \n",
    "        for i in range(5):\n",
    "            gc.collect()\n",
    "            \n",
    "    del whole_df, positives, negatives\n",
    "    for i in range(5):\n",
    "        gc.collect()"
   ]
  },
  {
   "cell_type": "code",
   "execution_count": null,
   "id": "09b4d352",
   "metadata": {},
   "outputs": [],
   "source": []
  },
  {
   "cell_type": "code",
   "execution_count": null,
   "id": "be64365a",
   "metadata": {},
   "outputs": [],
   "source": []
  }
 ],
 "metadata": {
  "kernelspec": {
   "display_name": "Python 3 (ipykernel)",
   "language": "python",
   "name": "python3"
  },
  "language_info": {
   "codemirror_mode": {
    "name": "ipython",
    "version": 3
   },
   "file_extension": ".py",
   "mimetype": "text/x-python",
   "name": "python",
   "nbconvert_exporter": "python",
   "pygments_lexer": "ipython3",
   "version": "3.8.13"
  },
  "papermill": {
   "default_parameters": {},
   "duration": 3695.647257,
   "end_time": "2022-11-28T19:50:53.428271",
   "environment_variables": {},
   "exception": null,
   "input_path": "__notebook__.ipynb",
   "output_path": "__notebook__.ipynb",
   "parameters": {},
   "start_time": "2022-11-28T18:49:17.781014",
   "version": "2.3.4"
  }
 },
 "nbformat": 4,
 "nbformat_minor": 5
}
