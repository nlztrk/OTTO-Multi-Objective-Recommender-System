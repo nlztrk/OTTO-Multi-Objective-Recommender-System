{
 "cells": [
  {
   "cell_type": "code",
   "execution_count": 1,
   "id": "19803c5d",
   "metadata": {
    "execution": {
     "iopub.execute_input": "2022-11-28T18:49:25.672561Z",
     "iopub.status.busy": "2022-11-28T18:49:25.671835Z",
     "iopub.status.idle": "2022-11-28T18:49:28.346781Z",
     "shell.execute_reply": "2022-11-28T18:49:28.345442Z"
    },
    "papermill": {
     "duration": 2.696152,
     "end_time": "2022-11-28T18:49:28.349900",
     "exception": false,
     "start_time": "2022-11-28T18:49:25.653748",
     "status": "completed"
    },
    "tags": []
   },
   "outputs": [
    {
     "name": "stdout",
     "output_type": "stream",
     "text": [
      "We will use RAPIDS version 22.10.00a+392.g1558403753\n"
     ]
    }
   ],
   "source": [
    "VER = 6\n",
    "\n",
    "import pandas as pd, numpy as np\n",
    "from tqdm.notebook import tqdm\n",
    "tqdm.pandas()\n",
    "\n",
    "import os, sys, pickle, glob, gc\n",
    "from collections import Counter\n",
    "import cudf, itertools\n",
    "print('We will use RAPIDS version',cudf.__version__)\n",
    "\n",
    "pd.set_option('display.max_rows', 500)\n",
    "pd.set_option('display.max_columns', 500)\n",
    "\n",
    "# from pandarallel import pandarallel\n",
    "\n",
    "# pandarallel.initialize(nb_workers=4, progress_bar=True, use_memory_fs=False)\n",
    "\n",
    "import xgboost as xgb\n",
    "from sklearn.model_selection import GroupKFold\n",
    "import polars as pl\n",
    "\n",
    "from pyarrow.parquet import ParquetFile\n",
    "import pyarrow as pa "
   ]
  },
  {
   "cell_type": "markdown",
   "id": "e2505537",
   "metadata": {
    "papermill": {
     "duration": 0.020472,
     "end_time": "2022-11-28T18:57:43.433117",
     "exception": false,
     "start_time": "2022-11-28T18:57:43.412645",
     "status": "completed"
    },
    "tags": []
   },
   "source": [
    "# Training"
   ]
  },
  {
   "cell_type": "code",
   "execution_count": 2,
   "id": "e70b81b7",
   "metadata": {},
   "outputs": [],
   "source": [
    "type_labels = {'clicks':0, 'carts':1, 'orders':2}"
   ]
  },
  {
   "cell_type": "code",
   "execution_count": 3,
   "id": "cf01ab42",
   "metadata": {},
   "outputs": [],
   "source": [
    "CANDIDATE_COUNT = 100"
   ]
  },
  {
   "cell_type": "code",
   "execution_count": 4,
   "id": "c1d11bdd",
   "metadata": {},
   "outputs": [],
   "source": [
    "train_sessions = np.load(\"./splitted_raw_data/val_sessions_for_train.npy\", allow_pickle=True)"
   ]
  },
  {
   "cell_type": "markdown",
   "id": "988d59c2",
   "metadata": {},
   "source": [
    "## For each action"
   ]
  },
  {
   "cell_type": "code",
   "execution_count": 5,
   "id": "ede33468",
   "metadata": {},
   "outputs": [
    {
     "data": {
      "application/vnd.jupyter.widget-view+json": {
       "model_id": "93a59e8f98b042b497ae1c3d7b1cb390",
       "version_major": 2,
       "version_minor": 0
      },
      "text/plain": [
       "  0%|          | 0/3 [00:00<?, ?it/s]"
      ]
     },
     "metadata": {},
     "output_type": "display_data"
    },
    {
     "data": {
      "application/vnd.jupyter.widget-view+json": {
       "model_id": "160a49a0d5c24edd821b68ce44cd2011",
       "version_major": 2,
       "version_minor": 0
      },
      "text/plain": [
       "  0%|          | 0/19 [00:00<?, ?it/s]"
      ]
     },
     "metadata": {},
     "output_type": "display_data"
    },
    {
     "name": "stdout",
     "output_type": "stream",
     "text": [
      "sampled\n",
      "[0]\ttrain-map:0.81494\tvalid-map:0.81333\n",
      "[100]\ttrain-map:0.82157\tvalid-map:0.81964\n",
      "[200]\ttrain-map:0.82334\tvalid-map:0.82098\n",
      "[300]\ttrain-map:0.82410\tvalid-map:0.82155\n",
      "[349]\ttrain-map:0.82437\tvalid-map:0.82169\n",
      "[0]\ttrain-map:0.81441\tvalid-map:0.81458\n",
      "[100]\ttrain-map:0.82117\tvalid-map:0.82128\n",
      "[200]\ttrain-map:0.82292\tvalid-map:0.82295\n",
      "[300]\ttrain-map:0.82376\tvalid-map:0.82348\n",
      "[349]\ttrain-map:0.82405\tvalid-map:0.82362\n",
      "[0]\ttrain-map:0.81447\tvalid-map:0.81521\n",
      "[100]\ttrain-map:0.82107\tvalid-map:0.82156\n",
      "[200]\ttrain-map:0.82282\tvalid-map:0.82303\n",
      "[300]\ttrain-map:0.82365\tvalid-map:0.82348\n",
      "[349]\ttrain-map:0.82398\tvalid-map:0.82365\n",
      "[0]\ttrain-map:0.81431\tvalid-map:0.81475\n",
      "[100]\ttrain-map:0.82115\tvalid-map:0.82136\n",
      "[200]\ttrain-map:0.82295\tvalid-map:0.82281\n",
      "[300]\ttrain-map:0.82379\tvalid-map:0.82323\n",
      "[349]\ttrain-map:0.82407\tvalid-map:0.82329\n",
      "[0]\ttrain-map:0.81468\tvalid-map:0.81429\n",
      "[100]\ttrain-map:0.82127\tvalid-map:0.82072\n",
      "[200]\ttrain-map:0.82320\tvalid-map:0.82230\n",
      "[300]\ttrain-map:0.82392\tvalid-map:0.82273\n",
      "[349]\ttrain-map:0.82419\tvalid-map:0.82289\n"
     ]
    },
    {
     "data": {
      "application/vnd.jupyter.widget-view+json": {
       "model_id": "350bb5e5069542e2af74423fff74b90a",
       "version_major": 2,
       "version_minor": 0
      },
      "text/plain": [
       "  0%|          | 0/19 [00:00<?, ?it/s]"
      ]
     },
     "metadata": {},
     "output_type": "display_data"
    },
    {
     "name": "stdout",
     "output_type": "stream",
     "text": [
      "sampled\n",
      "[0]\ttrain-map:0.97210\tvalid-map:0.97249\n",
      "[100]\ttrain-map:0.97455\tvalid-map:0.97474\n",
      "[200]\ttrain-map:0.97516\tvalid-map:0.97501\n",
      "[300]\ttrain-map:0.97546\tvalid-map:0.97512\n",
      "[349]\ttrain-map:0.97562\tvalid-map:0.97514\n",
      "[0]\ttrain-map:0.97221\tvalid-map:0.97201\n",
      "[100]\ttrain-map:0.97465\tvalid-map:0.97431\n",
      "[200]\ttrain-map:0.97523\tvalid-map:0.97455\n",
      "[300]\ttrain-map:0.97556\tvalid-map:0.97466\n",
      "[349]\ttrain-map:0.97569\tvalid-map:0.97466\n",
      "[0]\ttrain-map:0.97212\tvalid-map:0.97177\n",
      "[100]\ttrain-map:0.97468\tvalid-map:0.97411\n",
      "[200]\ttrain-map:0.97528\tvalid-map:0.97436\n",
      "[300]\ttrain-map:0.97563\tvalid-map:0.97447\n",
      "[349]\ttrain-map:0.97578\tvalid-map:0.97456\n",
      "[0]\ttrain-map:0.97217\tvalid-map:0.97207\n",
      "[100]\ttrain-map:0.97462\tvalid-map:0.97443\n",
      "[200]\ttrain-map:0.97518\tvalid-map:0.97483\n",
      "[300]\ttrain-map:0.97553\tvalid-map:0.97496\n",
      "[349]\ttrain-map:0.97567\tvalid-map:0.97496\n",
      "[0]\ttrain-map:0.97210\tvalid-map:0.97198\n",
      "[100]\ttrain-map:0.97465\tvalid-map:0.97427\n",
      "[200]\ttrain-map:0.97521\tvalid-map:0.97465\n",
      "[300]\ttrain-map:0.97556\tvalid-map:0.97481\n",
      "[349]\ttrain-map:0.97572\tvalid-map:0.97483\n"
     ]
    },
    {
     "data": {
      "application/vnd.jupyter.widget-view+json": {
       "model_id": "70f1e4853f69488b909011d16bd0b595",
       "version_major": 2,
       "version_minor": 0
      },
      "text/plain": [
       "  0%|          | 0/19 [00:00<?, ?it/s]"
      ]
     },
     "metadata": {},
     "output_type": "display_data"
    },
    {
     "name": "stdout",
     "output_type": "stream",
     "text": [
      "sampled\n",
      "[0]\ttrain-map:0.99128\tvalid-map:0.99116\n",
      "[100]\ttrain-map:0.99293\tvalid-map:0.99258\n",
      "[200]\ttrain-map:0.99326\tvalid-map:0.99272\n",
      "[300]\ttrain-map:0.99348\tvalid-map:0.99275\n",
      "[349]\ttrain-map:0.99358\tvalid-map:0.99277\n",
      "[0]\ttrain-map:0.99126\tvalid-map:0.99145\n",
      "[100]\ttrain-map:0.99288\tvalid-map:0.99280\n",
      "[200]\ttrain-map:0.99322\tvalid-map:0.99294\n",
      "[300]\ttrain-map:0.99345\tvalid-map:0.99297\n",
      "[349]\ttrain-map:0.99355\tvalid-map:0.99299\n",
      "[0]\ttrain-map:0.99122\tvalid-map:0.99122\n",
      "[100]\ttrain-map:0.99285\tvalid-map:0.99282\n",
      "[200]\ttrain-map:0.99319\tvalid-map:0.99299\n",
      "[300]\ttrain-map:0.99342\tvalid-map:0.99298\n",
      "[349]\ttrain-map:0.99352\tvalid-map:0.99296\n",
      "[0]\ttrain-map:0.99130\tvalid-map:0.99113\n",
      "[100]\ttrain-map:0.99287\tvalid-map:0.99273\n",
      "[200]\ttrain-map:0.99320\tvalid-map:0.99288\n",
      "[300]\ttrain-map:0.99344\tvalid-map:0.99290\n",
      "[349]\ttrain-map:0.99353\tvalid-map:0.99289\n",
      "[0]\ttrain-map:0.99128\tvalid-map:0.99126\n",
      "[100]\ttrain-map:0.99289\tvalid-map:0.99262\n",
      "[200]\ttrain-map:0.99325\tvalid-map:0.99280\n",
      "[300]\ttrain-map:0.99348\tvalid-map:0.99280\n",
      "[349]\ttrain-map:0.99359\tvalid-map:0.99279\n"
     ]
    }
   ],
   "source": [
    "from catboost import CatBoostRanker, Pool, MetricVisualizer\n",
    "\n",
    "for type_str in tqdm(list(type_labels.keys())):\n",
    "    \n",
    "#     pf = ParquetFile(f\"./candidated_features/local_{type_str}_all_data.pqt\") \n",
    "    \n",
    "#     whole_df = pd.read_parquet(f\"./candidated_features/local_{type_str}_all_data.pqt\").reset_index(drop=True)\n",
    "   \n",
    "    whole_df = []\n",
    "    batches = sorted(glob.glob(f\"./candidated_features/local_{type_str}_all_data_{CANDIDATE_COUNT}candidates_p*.pqt\"))\n",
    "    \n",
    "    for batch in tqdm(batches):\n",
    "        \n",
    "        batch = pd.read_parquet(batch)#.drop(labels=[\"candidate_rank\"], axis=1)\n",
    "        batch = batch[batch.session.isin(train_sessions)].reset_index(drop=True)\n",
    "        #batch = batch.drop(labels=[col for col in batch.columns if col[:4]==\"type\"], axis=1)\n",
    "        positives = batch.loc[batch['label']==1]\n",
    "        negatives = batch.loc[batch['label']==0].groupby(\"session\").sample(frac=0.15,\n",
    "                                                                           random_state=1337)\n",
    "        whole_df.append(positives)\n",
    "        whole_df.append(negatives)\n",
    "        \n",
    "    whole_df = pd.concat(whole_df, axis=0, ignore_index=True)\n",
    "    del positives, negatives\n",
    "    \n",
    "    print(\"sampled\")\n",
    "\n",
    "    FEATURES = whole_df.columns[2 : -1]   \n",
    "    \n",
    "    whole_df = whole_df.sort_values('session').reset_index(drop=True)\n",
    "    whole_df[\"group_count\"] = whole_df.groupby('session', sort=False).cumcount('candidates') + 1\n",
    "    \n",
    "    skf = GroupKFold(n_splits=5)\n",
    "    for fold, (train_idx, valid_idx) in enumerate(skf.split(whole_df,\n",
    "                                                            whole_df['label'],\n",
    "                                                            groups=whole_df['session'])):\n",
    "        X_train = whole_df.loc[train_idx, FEATURES]\n",
    "        y_train = whole_df.loc[train_idx, 'label']\n",
    "        X_valid = whole_df.loc[valid_idx, FEATURES]\n",
    "        y_valid = whole_df.loc[valid_idx, 'label']\n",
    "\n",
    "        train_groups = whole_df.loc[train_idx, ['session', 'group_count']].groupby('session')['group_count'].last().to_numpy()\n",
    "        val_groups = whole_df.loc[valid_idx, ['session', 'group_count']].groupby('session')['group_count'].last().to_numpy()\n",
    "        \n",
    "#         train_groups = whole_df.loc[train_idx, \"session\"].values\n",
    "#         val_groups = whole_df.loc[valid_idx, \"session\"].values\n",
    "        dtrain = xgb.DMatrix(X_train, y_train, group = train_groups) \n",
    "        dtest = xgb.DMatrix(X_valid, y_valid, group = val_groups) \n",
    "\n",
    "        xgb_parms = {'objective':'rank:pairwise',\n",
    "                     'tree_method':'gpu_hist',\n",
    "                    \"random_state\":42, \n",
    "                    \"learning_rate\":0.1,\n",
    "                    \"colsample_bytree\":0.9, \n",
    "                    \"eta\":0.05, \n",
    "#                     \"gamma\": 2,\n",
    "#                     \"min_child_weight\": 200,\n",
    "                    \"max_depth\":5, \n",
    "                    \"subsample\":0.8\n",
    "                    }\n",
    "        model = xgb.train(xgb_parms,\n",
    "                          dtrain=dtrain,\n",
    "                          evals=[(dtrain,'train'),(dtest,'valid')],\n",
    "                          num_boost_round=350,\n",
    "#                           early_stopping_rounds=400,\n",
    "                          verbose_eval=100)\n",
    "#         train = Pool(\n",
    "#             data=X_train,\n",
    "#             label=y_train,\n",
    "#             group_id=train_groups\n",
    "#         )\n",
    "\n",
    "#         test = Pool(\n",
    "#             data=X_valid,\n",
    "#             label=y_valid,\n",
    "#             group_id=val_groups\n",
    "#         )\n",
    "        \n",
    "#         loss = \"YetiRankPairwise\"\n",
    "#         cb_parameters = {\n",
    "#             'iterations': 10000,\n",
    "#             'loss_function': loss,\n",
    "#             'train_dir': loss,\n",
    "#             'task_type': 'GPU',\n",
    "#             'depth': 7,\n",
    "#             'learning_rate': 0.025,\n",
    "# #             'custom_metric': ['RecallAt:top=20', 'PrecisionAt:top=20'],\n",
    "# #             'eval_metric': ['MAP'],\n",
    "#             'early_stopping_rounds': 200,\n",
    "# #             'metric_period':0,\n",
    "#             'verbose': 100,\n",
    "#             'random_seed': 0,\n",
    "#         }\n",
    "#         model = CatBoostRanker(**cb_parameters)\n",
    "#         model.fit(train,\n",
    "#                   eval_set=test,\n",
    "# #                   plot=True\n",
    "#                  )\n",
    "        \n",
    "#         print(np.mean(model.eval_metrics(test, ['MAP'])['MAP']))\n",
    "    \n",
    "\n",
    "        model.save_model(f'./models/XGB_{CANDIDATE_COUNT}candidates_fold{fold}_{type_str}.xgb')\n",
    "#         model.save_model(f'./models/CB_{CANDIDATE_COUNT}candidates_fold{fold}_{type_str}.cb')\n",
    "        del model, X_train, y_train, X_valid, y_valid, dtrain, dtest\n",
    "        \n",
    "        for i in range(5):\n",
    "            gc.collect()\n",
    "            \n",
    "    del whole_df\n",
    "    for i in range(5):\n",
    "        gc.collect()"
   ]
  },
  {
   "cell_type": "code",
   "execution_count": 6,
   "id": "544965a3",
   "metadata": {},
   "outputs": [
    {
     "ename": "NameError",
     "evalue": "name 'model' is not defined",
     "output_type": "error",
     "traceback": [
      "\u001b[0;31m---------------------------------------------------------------------------\u001b[0m",
      "\u001b[0;31mNameError\u001b[0m                                 Traceback (most recent call last)",
      "Cell \u001b[0;32mIn [6], line 1\u001b[0m\n\u001b[0;32m----> 1\u001b[0m feat_importances \u001b[38;5;241m=\u001b[39m pd\u001b[38;5;241m.\u001b[39mSeries(\u001b[43mmodel\u001b[49m\u001b[38;5;241m.\u001b[39mget_feature_importance(data\u001b[38;5;241m=\u001b[39mtrain), index\u001b[38;5;241m=\u001b[39mwhole_df[FEATURES]\u001b[38;5;241m.\u001b[39mcolumns)\n",
      "\u001b[0;31mNameError\u001b[0m: name 'model' is not defined"
     ]
    }
   ],
   "source": [
    "feat_importances = pd.Series(model.get_feature_importance(data=train), index=whole_df[FEATURES].columns)"
   ]
  },
  {
   "cell_type": "code",
   "execution_count": null,
   "id": "8954e6f4",
   "metadata": {},
   "outputs": [],
   "source": [
    "feat_importances.nlargest(30).plot(kind='barh')"
   ]
  },
  {
   "cell_type": "code",
   "execution_count": null,
   "id": "f834c57b",
   "metadata": {},
   "outputs": [],
   "source": [
    "FEATURES"
   ]
  },
  {
   "cell_type": "code",
   "execution_count": null,
   "id": "7357a70f",
   "metadata": {},
   "outputs": [],
   "source": []
  }
 ],
 "metadata": {
  "kernelspec": {
   "display_name": "Python 3 (ipykernel)",
   "language": "python",
   "name": "python3"
  },
  "language_info": {
   "codemirror_mode": {
    "name": "ipython",
    "version": 3
   },
   "file_extension": ".py",
   "mimetype": "text/x-python",
   "name": "python",
   "nbconvert_exporter": "python",
   "pygments_lexer": "ipython3",
   "version": "3.8.13"
  },
  "papermill": {
   "default_parameters": {},
   "duration": 3695.647257,
   "end_time": "2022-11-28T19:50:53.428271",
   "environment_variables": {},
   "exception": null,
   "input_path": "__notebook__.ipynb",
   "output_path": "__notebook__.ipynb",
   "parameters": {},
   "start_time": "2022-11-28T18:49:17.781014",
   "version": "2.3.4"
  }
 },
 "nbformat": 4,
 "nbformat_minor": 5
}
