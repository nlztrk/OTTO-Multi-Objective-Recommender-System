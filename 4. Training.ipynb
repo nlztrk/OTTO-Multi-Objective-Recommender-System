{
 "cells": [
  {
   "cell_type": "code",
   "execution_count": 1,
   "id": "19803c5d",
   "metadata": {
    "execution": {
     "iopub.execute_input": "2022-11-28T18:49:25.672561Z",
     "iopub.status.busy": "2022-11-28T18:49:25.671835Z",
     "iopub.status.idle": "2022-11-28T18:49:28.346781Z",
     "shell.execute_reply": "2022-11-28T18:49:28.345442Z"
    },
    "papermill": {
     "duration": 2.696152,
     "end_time": "2022-11-28T18:49:28.349900",
     "exception": false,
     "start_time": "2022-11-28T18:49:25.653748",
     "status": "completed"
    },
    "tags": []
   },
   "outputs": [
    {
     "name": "stdout",
     "output_type": "stream",
     "text": [
      "We will use RAPIDS version 22.10.00a+392.g1558403753\n"
     ]
    }
   ],
   "source": [
    "VER = 6\n",
    "\n",
    "import pandas as pd, numpy as np\n",
    "from tqdm.notebook import tqdm\n",
    "tqdm.pandas()\n",
    "\n",
    "import os, sys, pickle, glob, gc\n",
    "from collections import Counter\n",
    "import cudf, itertools\n",
    "print('We will use RAPIDS version',cudf.__version__)\n",
    "\n",
    "pd.set_option('display.max_rows', 500)\n",
    "pd.set_option('display.max_columns', 500)\n",
    "\n",
    "# from pandarallel import pandarallel\n",
    "\n",
    "# pandarallel.initialize(nb_workers=4, progress_bar=True, use_memory_fs=False)\n",
    "\n",
    "import xgboost as xgb\n",
    "from sklearn.model_selection import GroupKFold\n",
    "import polars as pl\n",
    "\n",
    "from pyarrow.parquet import ParquetFile\n",
    "import pyarrow as pa "
   ]
  },
  {
   "cell_type": "markdown",
   "id": "e2505537",
   "metadata": {
    "papermill": {
     "duration": 0.020472,
     "end_time": "2022-11-28T18:57:43.433117",
     "exception": false,
     "start_time": "2022-11-28T18:57:43.412645",
     "status": "completed"
    },
    "tags": []
   },
   "source": [
    "# Training"
   ]
  },
  {
   "cell_type": "code",
   "execution_count": 2,
   "id": "e70b81b7",
   "metadata": {},
   "outputs": [],
   "source": [
    "type_labels = {'clicks':0, 'carts':1, 'orders':2}"
   ]
  },
  {
   "cell_type": "code",
   "execution_count": 3,
   "id": "cf01ab42",
   "metadata": {},
   "outputs": [],
   "source": [
    "CANDIDATE_COUNT = 100"
   ]
  },
  {
   "cell_type": "code",
   "execution_count": 4,
   "id": "c1d11bdd",
   "metadata": {},
   "outputs": [],
   "source": [
    "train_sessions = np.load(\"./splitted_raw_data/val_sessions_for_train.npy\", allow_pickle=True)"
   ]
  },
  {
   "cell_type": "code",
   "execution_count": 5,
   "id": "438cd4fa",
   "metadata": {},
   "outputs": [],
   "source": [
    "type_params = {\n",
    "    'clicks': {'objective': 'rank:pairwise', 'booster': 'gbtree', 'tree_method': 'gpu_hist',\n",
    "               'lambda': 0.2000795145852262, 'alpha': 0.021947181560734986, 'subsample': 0.8180322716827366,\n",
    "               'colsample_bytree': 0.7492401197497842, 'random_state': 1337, 'max_depth': 8,\n",
    "               'eta': 0.18176204403241988, 'gamma': 0.7268976249046284, 'grow_policy': 'lossguide'},\n",
    "    \n",
    "    'carts': {'objective': 'rank:pairwise', 'booster': 'gbtree', 'tree_method': 'gpu_hist',\n",
    "              'lambda': 0.7196334788308238, 'alpha': 0.6904397149795183, 'subsample': 0.8544839033653899,\n",
    "              'colsample_bytree': 0.6341093892622888, 'random_state': 1337, 'max_depth': 6,\n",
    "              'eta': 0.2023188224070553, 'gamma': 0.7169407623979183, 'grow_policy': 'lossguide'},\n",
    "    \n",
    "    'orders': {'objective': 'rank:pairwise', 'booster': 'gbtree', 'tree_method': 'gpu_hist',\n",
    "               'lambda': 0.40954731824096013, 'alpha': 0.366692604406995, 'subsample': 0.7191582485032328,\n",
    "               'colsample_bytree': 0.9086531686000213, 'random_state': 1337, 'max_depth': 6,\n",
    "               'eta': 0.2268622568560344, 'gamma': 0.9057817396823519, 'grow_policy': 'depthwise'}\n",
    "}"
   ]
  },
  {
   "cell_type": "code",
   "execution_count": 6,
   "id": "62c27ab8",
   "metadata": {},
   "outputs": [],
   "source": [
    "dropcols = [\n",
    "    'type0_session_aid_aid_existed',\n",
    "       'type0_session_aid_aid_existed_multiple',\n",
    "       'type1_session_aid_aid_existed',\n",
    "       'type1_session_aid_aid_existed_multiple',\n",
    "       'type2_session_aid_aid_existed',\n",
    "       'type2_session_aid_aid_existed_multiple',\n",
    "    'type0_aid_aid_existed', 'type0_aid_aid_existed_multiple',\n",
    "       'type0_aid_session_existed', 'type0_aid_session_existed_multiple',\n",
    "       'type1_aid_aid_existed', 'type1_aid_aid_existed_multiple',\n",
    "       'type1_aid_session_existed', 'type1_aid_session_existed_multiple',\n",
    "       'type2_aid_aid_existed', 'type2_aid_aid_existed_multiple',\n",
    "       'type2_aid_session_existed', 'type2_aid_session_existed_multiple',\n",
    "    'all_carts_orders_wgt_min', 'all_carts_orders_wgt_std',\n",
    "       'all_carts_orders_wgt_sum', 'all_carts_orders_wgt_mean',\n",
    "       'all_carts_orders_wgt_count', 'all_buy2buy_wgt_max',\n",
    "       'all_buy2buy_wgt_min', 'all_buy2buy_wgt_std', 'all_buy2buy_wgt_sum',\n",
    "       'all_buy2buy_wgt_mean', 'all_buy2buy_wgt_count', 'aid_session_existed',\n",
    "    'clicks_covisit_max',\n",
    "       'clicks_covisit_min', 'clicks_covisit_std', 'clicks_covisit_sum',\n",
    "       'clicks_covisit_mean', 'clicks_covisit_count',\n",
    "       'carts_orders_covisit_max', 'carts_orders_covisit_min',\n",
    "       'carts_orders_covisit_std', 'carts_orders_covisit_sum',\n",
    "       'carts_orders_covisit_mean', 'carts_orders_covisit_count',\n",
    "       'buy2buy_covisit_max', 'buy2buy_covisit_min', 'buy2buy_covisit_std',\n",
    "       'buy2buy_covisit_sum', 'buy2buy_covisit_mean', 'buy2buy_covisit_count',\n",
    "    'all_clicks_wgt_max',\n",
    "       'all_clicks_wgt_min', 'all_clicks_wgt_std', 'all_clicks_wgt_sum',\n",
    "       'all_clicks_wgt_mean', 'all_clicks_wgt_count',\n",
    "       'all_carts_orders_wgt_max'\n",
    "]"
   ]
  },
  {
   "cell_type": "markdown",
   "id": "988d59c2",
   "metadata": {},
   "source": [
    "## For each action"
   ]
  },
  {
   "cell_type": "code",
   "execution_count": 7,
   "id": "ede33468",
   "metadata": {},
   "outputs": [
    {
     "data": {
      "application/vnd.jupyter.widget-view+json": {
       "model_id": "0c5410aec51446e1b09e34c5618f9c5c",
       "version_major": 2,
       "version_minor": 0
      },
      "text/plain": [
       "  0%|          | 0/3 [00:00<?, ?it/s]"
      ]
     },
     "metadata": {},
     "output_type": "display_data"
    },
    {
     "data": {
      "application/vnd.jupyter.widget-view+json": {
       "model_id": "5d1e999bcf4f4ce0b6be9afa86538f75",
       "version_major": 2,
       "version_minor": 0
      },
      "text/plain": [
       "  0%|          | 0/19 [00:00<?, ?it/s]"
      ]
     },
     "metadata": {},
     "output_type": "display_data"
    },
    {
     "name": "stdout",
     "output_type": "stream",
     "text": [
      "sampled\n",
      "[0]\ttrain-map:0.81716\tvalid-map:0.81754\n",
      "[100]\ttrain-map:0.82529\tvalid-map:0.82493\n",
      "[200]\ttrain-map:0.82771\tvalid-map:0.82663\n",
      "[300]\ttrain-map:0.82906\tvalid-map:0.82722\n",
      "[349]\ttrain-map:0.82960\tvalid-map:0.82757\n",
      "[0]\ttrain-map:0.81726\tvalid-map:0.81700\n",
      "[100]\ttrain-map:0.82555\tvalid-map:0.82463\n",
      "[200]\ttrain-map:0.82778\tvalid-map:0.82633\n",
      "[300]\ttrain-map:0.82912\tvalid-map:0.82690\n",
      "[349]\ttrain-map:0.82973\tvalid-map:0.82714\n",
      "[0]\ttrain-map:0.81701\tvalid-map:0.81699\n",
      "[100]\ttrain-map:0.82533\tvalid-map:0.82515\n",
      "[200]\ttrain-map:0.82762\tvalid-map:0.82709\n",
      "[300]\ttrain-map:0.82901\tvalid-map:0.82761\n",
      "[349]\ttrain-map:0.82951\tvalid-map:0.82776\n",
      "[0]\ttrain-map:0.81709\tvalid-map:0.81706\n",
      "[100]\ttrain-map:0.82551\tvalid-map:0.82484\n",
      "[200]\ttrain-map:0.82777\tvalid-map:0.82627\n",
      "[300]\ttrain-map:0.82922\tvalid-map:0.82690\n",
      "[349]\ttrain-map:0.82977\tvalid-map:0.82712\n",
      "[0]\ttrain-map:0.81739\tvalid-map:0.81602\n",
      "[100]\ttrain-map:0.82574\tvalid-map:0.82392\n",
      "[200]\ttrain-map:0.82798\tvalid-map:0.82549\n",
      "[300]\ttrain-map:0.82934\tvalid-map:0.82630\n",
      "[349]\ttrain-map:0.82995\tvalid-map:0.82660\n"
     ]
    },
    {
     "data": {
      "application/vnd.jupyter.widget-view+json": {
       "model_id": "2a372dfb85e046908d53fd84a8a9775d",
       "version_major": 2,
       "version_minor": 0
      },
      "text/plain": [
       "  0%|          | 0/19 [00:00<?, ?it/s]"
      ]
     },
     "metadata": {},
     "output_type": "display_data"
    },
    {
     "name": "stdout",
     "output_type": "stream",
     "text": [
      "sampled\n",
      "[0]\ttrain-map:0.97278\tvalid-map:0.97260\n",
      "[100]\ttrain-map:0.97558\tvalid-map:0.97512\n",
      "[200]\ttrain-map:0.97640\tvalid-map:0.97532\n",
      "[300]\ttrain-map:0.97704\tvalid-map:0.97537\n",
      "[349]\ttrain-map:0.97735\tvalid-map:0.97536\n",
      "[0]\ttrain-map:0.97288\tvalid-map:0.97271\n",
      "[100]\ttrain-map:0.97559\tvalid-map:0.97503\n",
      "[200]\ttrain-map:0.97638\tvalid-map:0.97525\n",
      "[300]\ttrain-map:0.97703\tvalid-map:0.97533\n",
      "[349]\ttrain-map:0.97731\tvalid-map:0.97537\n",
      "[0]\ttrain-map:0.97288\tvalid-map:0.97239\n",
      "[100]\ttrain-map:0.97570\tvalid-map:0.97472\n",
      "[200]\ttrain-map:0.97644\tvalid-map:0.97494\n",
      "[300]\ttrain-map:0.97704\tvalid-map:0.97508\n",
      "[349]\ttrain-map:0.97733\tvalid-map:0.97517\n",
      "[0]\ttrain-map:0.97285\tvalid-map:0.97238\n",
      "[100]\ttrain-map:0.97565\tvalid-map:0.97488\n",
      "[200]\ttrain-map:0.97641\tvalid-map:0.97513\n",
      "[300]\ttrain-map:0.97703\tvalid-map:0.97532\n",
      "[349]\ttrain-map:0.97733\tvalid-map:0.97531\n",
      "[0]\ttrain-map:0.97283\tvalid-map:0.97322\n",
      "[100]\ttrain-map:0.97553\tvalid-map:0.97536\n",
      "[200]\ttrain-map:0.97630\tvalid-map:0.97558\n",
      "[300]\ttrain-map:0.97694\tvalid-map:0.97565\n",
      "[349]\ttrain-map:0.97721\tvalid-map:0.97566\n"
     ]
    },
    {
     "data": {
      "application/vnd.jupyter.widget-view+json": {
       "model_id": "b9b577674fc64fd9b21073c3bfb4ac17",
       "version_major": 2,
       "version_minor": 0
      },
      "text/plain": [
       "  0%|          | 0/19 [00:00<?, ?it/s]"
      ]
     },
     "metadata": {},
     "output_type": "display_data"
    },
    {
     "name": "stdout",
     "output_type": "stream",
     "text": [
      "sampled\n",
      "[0]\ttrain-map:0.99174\tvalid-map:0.99179\n",
      "[100]\ttrain-map:0.99335\tvalid-map:0.99305\n",
      "[200]\ttrain-map:0.99387\tvalid-map:0.99319\n",
      "[300]\ttrain-map:0.99432\tvalid-map:0.99316\n",
      "[349]\ttrain-map:0.99454\tvalid-map:0.99317\n",
      "[0]\ttrain-map:0.99185\tvalid-map:0.99152\n",
      "[100]\ttrain-map:0.99340\tvalid-map:0.99284\n",
      "[200]\ttrain-map:0.99393\tvalid-map:0.99294\n",
      "[300]\ttrain-map:0.99435\tvalid-map:0.99295\n",
      "[349]\ttrain-map:0.99455\tvalid-map:0.99295\n",
      "[0]\ttrain-map:0.99180\tvalid-map:0.99166\n",
      "[100]\ttrain-map:0.99339\tvalid-map:0.99297\n",
      "[200]\ttrain-map:0.99392\tvalid-map:0.99301\n",
      "[300]\ttrain-map:0.99436\tvalid-map:0.99301\n",
      "[349]\ttrain-map:0.99458\tvalid-map:0.99301\n",
      "[0]\ttrain-map:0.99178\tvalid-map:0.99161\n",
      "[100]\ttrain-map:0.99336\tvalid-map:0.99299\n",
      "[200]\ttrain-map:0.99391\tvalid-map:0.99302\n",
      "[300]\ttrain-map:0.99435\tvalid-map:0.99296\n",
      "[349]\ttrain-map:0.99456\tvalid-map:0.99297\n",
      "[0]\ttrain-map:0.99177\tvalid-map:0.99178\n",
      "[100]\ttrain-map:0.99335\tvalid-map:0.99293\n",
      "[200]\ttrain-map:0.99391\tvalid-map:0.99305\n",
      "[300]\ttrain-map:0.99434\tvalid-map:0.99307\n",
      "[349]\ttrain-map:0.99457\tvalid-map:0.99305\n"
     ]
    }
   ],
   "source": [
    "from catboost import CatBoostRanker, Pool, MetricVisualizer\n",
    "\n",
    "model_iters = {}\n",
    "\n",
    "for type_str in tqdm(list(type_labels.keys())):\n",
    "    \n",
    "#     pf = ParquetFile(f\"./candidated_features/local_{type_str}_all_data.pqt\") \n",
    "    \n",
    "#     whole_df = pd.read_parquet(f\"./candidated_features/local_{type_str}_all_data.pqt\").reset_index(drop=True)\n",
    "   \n",
    "    whole_df = []\n",
    "    batches = sorted(glob.glob(f\"./candidated_features/local_{type_str}_all_data_{CANDIDATE_COUNT}candidates_p*.pqt\"))\n",
    "    \n",
    "    for batch in tqdm(batches):\n",
    "        \n",
    "        batch = pd.read_parquet(batch)#.drop(labels=[\"candidate_rank\"], axis=1)\n",
    "#         batch.drop(dropcols, 1, inplace=True)\n",
    "        batch = batch[batch.session.isin(train_sessions)].reset_index(drop=True)\n",
    "        #batch = batch.drop(labels=[col for col in batch.columns if col[:4]==\"type\"], axis=1)\n",
    "        positives = batch.loc[batch['label']==1].copy()\n",
    "        negatives = batch.loc[batch['label']==0].groupby(\"session\").sample(frac=0.15,\n",
    "                                                                           random_state=1337)\n",
    "        whole_df.append(positives)\n",
    "        whole_df.append(negatives)\n",
    "        del batch\n",
    "        \n",
    "    whole_df = pd.concat(whole_df, axis=0, ignore_index=True)\n",
    "    del positives, negatives\n",
    "    \n",
    "    print(\"sampled\")\n",
    "\n",
    "    FEATURES = whole_df.columns[2 : -1]   \n",
    "    \n",
    "    whole_df = whole_df.sort_values('session').reset_index(drop=True)\n",
    "#     group_counts = whole_df.groupby('session', sort=False).session.agg('count').values\n",
    "    \n",
    "    skf = GroupKFold(n_splits=5)\n",
    "    for fold, (train_idx, valid_idx) in enumerate(skf.split(whole_df,\n",
    "                                                            whole_df['label'],\n",
    "                                                            groups=whole_df['session'])):\n",
    "        X_train = whole_df.loc[train_idx, FEATURES]\n",
    "        y_train = whole_df.loc[train_idx, 'label']\n",
    "        X_valid = whole_df.loc[valid_idx, FEATURES]\n",
    "        y_valid = whole_df.loc[valid_idx, 'label']\n",
    "\n",
    "        train_groups = whole_df.loc[train_idx].groupby('session', sort=False)[\"session\"].agg('count').values\n",
    "        val_groups = whole_df.loc[valid_idx].groupby('session', sort=False)[\"session\"].agg('count').values\n",
    "        \n",
    "#         train_groups = whole_df.loc[train_idx, \"session\"].values\n",
    "#         val_groups = whole_df.loc[valid_idx, \"session\"].values\n",
    "        dtrain = xgb.DMatrix(X_train, y_train, group = train_groups) \n",
    "        dtest = xgb.DMatrix(X_valid, y_valid, group = val_groups) \n",
    "\n",
    "        xgb_parms = {'objective':'rank:pairwise',\n",
    "                     'tree_method':'gpu_hist',\n",
    "                    \"random_state\":42, \n",
    "                    \"learning_rate\":0.1,\n",
    "                    \"colsample_bytree\":0.9, \n",
    "                    \"eta\":0.05, \n",
    "#                     \"gamma\": 2,\n",
    "#                     \"min_child_weight\": 200,\n",
    "                    \"max_depth\":6, \n",
    "                    \"subsample\":0.9\n",
    "                    }\n",
    "#         xgb_parms = type_params[type_str]\n",
    "        model = xgb.train(xgb_parms,\n",
    "                          dtrain=dtrain,\n",
    "                          evals=[(dtrain,'train'),(dtest,'valid')],\n",
    "                          num_boost_round=350,\n",
    "#                           early_stopping_rounds=100,\n",
    "                          verbose_eval=100)\n",
    "#         train = Pool(\n",
    "#             data=X_train,\n",
    "#             label=y_train,\n",
    "#             group_id=train_groups\n",
    "#         )\n",
    "\n",
    "#         test = Pool(\n",
    "#             data=X_valid,\n",
    "#             label=y_valid,\n",
    "#             group_id=val_groups\n",
    "#         )\n",
    "        \n",
    "#         loss = \"YetiRankPairwise\"\n",
    "#         cb_parameters = {\n",
    "#             'iterations': 10000,\n",
    "#             'loss_function': loss,\n",
    "#             'train_dir': loss,\n",
    "#             'task_type': 'GPU',\n",
    "#             'depth': 7,\n",
    "#             'learning_rate': 0.025,\n",
    "# #             'custom_metric': ['RecallAt:top=20', 'PrecisionAt:top=20'],\n",
    "# #             'eval_metric': ['MAP'],\n",
    "#             'early_stopping_rounds': 200,\n",
    "# #             'metric_period':0,\n",
    "#             'verbose': 100,\n",
    "#             'random_seed': 0,\n",
    "#         }\n",
    "#         model = CatBoostRanker(**cb_parameters)\n",
    "#         model.fit(train,\n",
    "#                   eval_set=test,\n",
    "# #                   plot=True\n",
    "#                  )\n",
    "        \n",
    "#         print(np.mean(model.eval_metrics(test, ['MAP'])['MAP']))\n",
    "    \n",
    "        \n",
    "        model_path = f'./models/XGB_{CANDIDATE_COUNT}candidates_fold{fold}_{type_str}.xgb'\n",
    "        model.save_model(model_path)\n",
    "        \n",
    "        model_iters[model_path] = model.best_ntree_limit\n",
    "        \n",
    "#         model.save_model(f'./models/CB_{CANDIDATE_COUNT}candidates_fold{fold}_{type_str}.cb')\n",
    "        del model, X_train, y_train, X_valid, y_valid, dtrain, dtest\n",
    "        \n",
    "        for i in range(5):\n",
    "            gc.collect()\n",
    "            \n",
    "    del whole_df\n",
    "    for i in range(5):\n",
    "        gc.collect()"
   ]
  },
  {
   "cell_type": "code",
   "execution_count": 8,
   "id": "eb48cf94",
   "metadata": {},
   "outputs": [],
   "source": [
    "import json\n",
    "with open('./models/model_iters.json', 'w') as fp:\n",
    "    json.dump(model_iters, fp)"
   ]
  },
  {
   "cell_type": "code",
   "execution_count": 9,
   "id": "c8f3ce00",
   "metadata": {},
   "outputs": [
    {
     "ename": "NameError",
     "evalue": "name 'k' is not defined",
     "output_type": "error",
     "traceback": [
      "\u001b[0;31m---------------------------------------------------------------------------\u001b[0m",
      "\u001b[0;31mNameError\u001b[0m                                 Traceback (most recent call last)",
      "Cell \u001b[0;32mIn [9], line 1\u001b[0m\n\u001b[0;32m----> 1\u001b[0m \u001b[38;5;28mprint\u001b[39m(\u001b[43mk\u001b[49m)\n",
      "\u001b[0;31mNameError\u001b[0m: name 'k' is not defined"
     ]
    }
   ],
   "source": [
    "print(k)"
   ]
  },
  {
   "cell_type": "code",
   "execution_count": null,
   "id": "6b6e9b39",
   "metadata": {},
   "outputs": [],
   "source": [
    "import optuna\n",
    "from optuna.integration import CatBoostPruningCallback\n",
    "from sklearn.svm import SVC\n",
    "from sklearn.linear_model import LogisticRegression\n",
    "from sklearn.preprocessing import StandardScaler, MinMaxScaler\n",
    "from sklearn.pipeline import Pipeline\n",
    "from sklearn.ensemble import RandomForestClassifier\n",
    "from sklearn.tree import DecisionTreeClassifier\n",
    "from sklearn.neighbors import KNeighborsClassifier, RadiusNeighborsClassifier\n",
    "from sklearn.model_selection import cross_val_score\n",
    "from sklearn.metrics import f1_score, precision_score, recall_score, fbeta_score, make_scorer\n",
    "\n",
    "import xgboost as xgb\n",
    "\n",
    "def xgb_objective(trial,\n",
    "                                          scorer,\n",
    "                                          input_train,\n",
    "                                          input_test,\n",
    "                                          seed=1337):\n",
    "\n",
    "    param = {\n",
    "        \"objective\": trial.suggest_categorical('objective', [\"rank:pairwise\"]),\n",
    "        \"booster\": trial.suggest_categorical(\"booster\", [\"gbtree\"]),\n",
    "        \"tree_method\": trial.suggest_categorical(\"tree_method\", [\"gpu_hist\"]),\n",
    "        \"lambda\": trial.suggest_float(\"lambda\", 1e-8, 1.0),\n",
    "        \"alpha\": trial.suggest_float(\"alpha\", 1e-8, 1.0),\n",
    "        \"subsample\": trial.suggest_float(\"subsample\", 0.6, 1.0),\n",
    "        \"colsample_bytree\": trial.suggest_float(\"colsample_bytree\", 0.6, 1.0),\n",
    "        'random_state': trial.suggest_categorical('random_state', [seed]),\n",
    "    }\n",
    "\n",
    "    if param[\"booster\"] == \"gbtree\" or param[\"booster\"] == \"dart\":\n",
    "        param[\"max_depth\"] = trial.suggest_int(\"max_depth\", 1, 8)\n",
    "        param[\"eta\"] = trial.suggest_float(\"eta\", 1e-8, 1.0)\n",
    "        param[\"gamma\"] = trial.suggest_float(\"gamma\", 1e-8, 1.0)\n",
    "        param[\"grow_policy\"] = trial.suggest_categorical(\"grow_policy\", [\"depthwise\", \"lossguide\"])\n",
    "    \n",
    "    model = xgb.train(param,\n",
    "                      dtrain=input_train,\n",
    "                      evals=[(input_train,'train'),(input_test,'valid')],\n",
    "                      num_boost_round=200,\n",
    "                      early_stopping_rounds=20,\n",
    "                      verbose_eval=100)\n",
    "    \n",
    "    return model.best_score\n",
    "\n",
    "\n",
    "trial_func = lambda trial: xgb_objective(trial=trial,\n",
    "                                          scorer=f1_score,\n",
    "                                          input_train=dtrain,\n",
    "                                          input_test=dtest,\n",
    "                                          seed=1337)\n",
    "    \n",
    "optuna.logging.set_verbosity(1)\n",
    "\n",
    "\n",
    "study = optuna.create_study(study_name=\"xgb_otto\",\n",
    "                            sampler=optuna.samplers.TPESampler(seed=1337),\n",
    "                            direction=\"maximize\"\n",
    "                            )\n",
    "\n",
    "study.optimize(trial_func,\n",
    "               n_trials=750)"
   ]
  },
  {
   "cell_type": "code",
   "execution_count": null,
   "id": "544965a3",
   "metadata": {},
   "outputs": [],
   "source": [
    "feat_importances = pd.Series(model.get_feature_importance(data=train), index=whole_df[FEATURES].columns)"
   ]
  },
  {
   "cell_type": "code",
   "execution_count": null,
   "id": "8954e6f4",
   "metadata": {},
   "outputs": [],
   "source": [
    "feat_importances.nlargest(30).plot(kind='barh')"
   ]
  },
  {
   "cell_type": "code",
   "execution_count": null,
   "id": "f834c57b",
   "metadata": {},
   "outputs": [],
   "source": [
    "FEATURES"
   ]
  },
  {
   "cell_type": "code",
   "execution_count": null,
   "id": "7357a70f",
   "metadata": {},
   "outputs": [],
   "source": []
  }
 ],
 "metadata": {
  "kernelspec": {
   "display_name": "Python 3 (ipykernel)",
   "language": "python",
   "name": "python3"
  },
  "language_info": {
   "codemirror_mode": {
    "name": "ipython",
    "version": 3
   },
   "file_extension": ".py",
   "mimetype": "text/x-python",
   "name": "python",
   "nbconvert_exporter": "python",
   "pygments_lexer": "ipython3",
   "version": "3.8.13"
  },
  "papermill": {
   "default_parameters": {},
   "duration": 3695.647257,
   "end_time": "2022-11-28T19:50:53.428271",
   "environment_variables": {},
   "exception": null,
   "input_path": "__notebook__.ipynb",
   "output_path": "__notebook__.ipynb",
   "parameters": {},
   "start_time": "2022-11-28T18:49:17.781014",
   "version": "2.3.4"
  }
 },
 "nbformat": 4,
 "nbformat_minor": 5
}
