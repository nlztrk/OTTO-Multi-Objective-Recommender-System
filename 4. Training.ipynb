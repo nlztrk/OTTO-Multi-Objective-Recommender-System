{
 "cells": [
  {
   "cell_type": "code",
   "execution_count": 1,
   "id": "19803c5d",
   "metadata": {
    "execution": {
     "iopub.execute_input": "2022-11-28T18:49:25.672561Z",
     "iopub.status.busy": "2022-11-28T18:49:25.671835Z",
     "iopub.status.idle": "2022-11-28T18:49:28.346781Z",
     "shell.execute_reply": "2022-11-28T18:49:28.345442Z"
    },
    "papermill": {
     "duration": 2.696152,
     "end_time": "2022-11-28T18:49:28.349900",
     "exception": false,
     "start_time": "2022-11-28T18:49:25.653748",
     "status": "completed"
    },
    "tags": []
   },
   "outputs": [
    {
     "name": "stdout",
     "output_type": "stream",
     "text": [
      "We will use RAPIDS version 22.10.00a+392.g1558403753\n"
     ]
    }
   ],
   "source": [
    "VER = 6\n",
    "\n",
    "import pandas as pd, numpy as np\n",
    "from tqdm.notebook import tqdm\n",
    "tqdm.pandas()\n",
    "\n",
    "import os, sys, pickle, glob, gc\n",
    "from collections import Counter\n",
    "import cudf, itertools\n",
    "print('We will use RAPIDS version',cudf.__version__)\n",
    "\n",
    "pd.set_option('display.max_rows', 500)\n",
    "pd.set_option('display.max_columns', 500)\n",
    "\n",
    "# from pandarallel import pandarallel\n",
    "\n",
    "# pandarallel.initialize(nb_workers=4, progress_bar=True, use_memory_fs=False)\n",
    "\n",
    "import xgboost as xgb\n",
    "from sklearn.model_selection import GroupKFold\n",
    "import polars as pl\n",
    "\n",
    "from pyarrow.parquet import ParquetFile\n",
    "import pyarrow as pa \n",
    "from fastai.tabular.core import df_shrink"
   ]
  },
  {
   "cell_type": "code",
   "execution_count": 2,
   "id": "1adb89d1",
   "metadata": {},
   "outputs": [],
   "source": [
    "def remove_negative_session(df,target='label'):\n",
    "    true_df = df.groupby('session')[target].agg('sum') > 0\n",
    "    session = pd.DataFrame(true_df[true_df]).reset_index()['session']\n",
    "    df = df.merge(session, how = 'inner', on = 'session')\n",
    "    return df"
   ]
  },
  {
   "cell_type": "markdown",
   "id": "e2505537",
   "metadata": {
    "papermill": {
     "duration": 0.020472,
     "end_time": "2022-11-28T18:57:43.433117",
     "exception": false,
     "start_time": "2022-11-28T18:57:43.412645",
     "status": "completed"
    },
    "tags": []
   },
   "source": [
    "# Training"
   ]
  },
  {
   "cell_type": "code",
   "execution_count": 3,
   "id": "e70b81b7",
   "metadata": {},
   "outputs": [],
   "source": [
    "type_labels = {'clicks':0, 'carts':1, 'orders':2}"
   ]
  },
  {
   "cell_type": "code",
   "execution_count": 4,
   "id": "cf01ab42",
   "metadata": {},
   "outputs": [],
   "source": [
    "CANDIDATE_COUNT = 100"
   ]
  },
  {
   "cell_type": "code",
   "execution_count": 5,
   "id": "c1d11bdd",
   "metadata": {},
   "outputs": [],
   "source": [
    "train_sessions = np.load(\"./splitted_raw_data/val_sessions_for_train.npy\", allow_pickle=True)"
   ]
  },
  {
   "cell_type": "code",
   "execution_count": 6,
   "id": "438cd4fa",
   "metadata": {},
   "outputs": [],
   "source": [
    "type_iters = {\n",
    "    'clicks': 900,\n",
    "    'carts': 400,\n",
    "    'orders': 400\n",
    "}\n",
    "\n",
    "type_fracs = {\n",
    "    'clicks': 0.15,\n",
    "    'carts': 0.15,\n",
    "    'orders': 0.15\n",
    "}"
   ]
  },
  {
   "cell_type": "markdown",
   "id": "988d59c2",
   "metadata": {},
   "source": [
    "## For each action"
   ]
  },
  {
   "cell_type": "code",
   "execution_count": 7,
   "id": "ede33468",
   "metadata": {
    "scrolled": false
   },
   "outputs": [
    {
     "data": {
      "application/vnd.jupyter.widget-view+json": {
       "model_id": "52b9abae3c014c388db2eebebcfe8fb0",
       "version_major": 2,
       "version_minor": 0
      },
      "text/plain": [
       "  0%|          | 0/3 [00:00<?, ?it/s]"
      ]
     },
     "metadata": {},
     "output_type": "display_data"
    },
    {
     "data": {
      "application/vnd.jupyter.widget-view+json": {
       "model_id": "c56b37e2988748489abe15dd76c50884",
       "version_major": 2,
       "version_minor": 0
      },
      "text/plain": [
       "  0%|          | 0/19 [00:00<?, ?it/s]"
      ]
     },
     "metadata": {},
     "output_type": "display_data"
    },
    {
     "name": "stdout",
     "output_type": "stream",
     "text": [
      "sampled: (7198528, 176)\n",
      "[0]\ttrain-map:0.67835\tvalid-map:0.67593\n",
      "[100]\ttrain-map:0.72498\tvalid-map:0.72299\n",
      "[200]\ttrain-map:0.72863\tvalid-map:0.72559\n",
      "[300]\ttrain-map:0.73082\tvalid-map:0.72661\n",
      "[400]\ttrain-map:0.73258\tvalid-map:0.72743\n",
      "[500]\ttrain-map:0.73428\tvalid-map:0.72794\n",
      "[600]\ttrain-map:0.73578\tvalid-map:0.72823\n",
      "[700]\ttrain-map:0.73703\tvalid-map:0.72841\n",
      "[800]\ttrain-map:0.73839\tvalid-map:0.72860\n",
      "[899]\ttrain-map:0.73965\tvalid-map:0.72860\n",
      "[0]\ttrain-map:0.67801\tvalid-map:0.67826\n",
      "[100]\ttrain-map:0.72481\tvalid-map:0.72417\n",
      "[200]\ttrain-map:0.72847\tvalid-map:0.72650\n",
      "[300]\ttrain-map:0.73070\tvalid-map:0.72717\n",
      "[400]\ttrain-map:0.73248\tvalid-map:0.72782\n",
      "[500]\ttrain-map:0.73407\tvalid-map:0.72828\n",
      "[600]\ttrain-map:0.73553\tvalid-map:0.72854\n",
      "[700]\ttrain-map:0.73687\tvalid-map:0.72886\n",
      "[800]\ttrain-map:0.73821\tvalid-map:0.72900\n",
      "[899]\ttrain-map:0.73934\tvalid-map:0.72912\n",
      "[0]\ttrain-map:0.67807\tvalid-map:0.67813\n",
      "[100]\ttrain-map:0.72489\tvalid-map:0.72359\n",
      "[200]\ttrain-map:0.72864\tvalid-map:0.72604\n",
      "[300]\ttrain-map:0.73070\tvalid-map:0.72689\n",
      "[400]\ttrain-map:0.73257\tvalid-map:0.72738\n",
      "[500]\ttrain-map:0.73413\tvalid-map:0.72764\n",
      "[600]\ttrain-map:0.73552\tvalid-map:0.72808\n",
      "[700]\ttrain-map:0.73685\tvalid-map:0.72833\n",
      "[800]\ttrain-map:0.73822\tvalid-map:0.72846\n",
      "[899]\ttrain-map:0.73944\tvalid-map:0.72852\n",
      "[0]\ttrain-map:0.67708\tvalid-map:0.67800\n",
      "[100]\ttrain-map:0.72483\tvalid-map:0.72378\n",
      "[200]\ttrain-map:0.72860\tvalid-map:0.72694\n",
      "[300]\ttrain-map:0.73081\tvalid-map:0.72786\n",
      "[400]\ttrain-map:0.73257\tvalid-map:0.72836\n",
      "[500]\ttrain-map:0.73420\tvalid-map:0.72881\n",
      "[600]\ttrain-map:0.73557\tvalid-map:0.72909\n",
      "[700]\ttrain-map:0.73692\tvalid-map:0.72915\n",
      "[800]\ttrain-map:0.73819\tvalid-map:0.72931\n",
      "[899]\ttrain-map:0.73948\tvalid-map:0.72929\n",
      "[0]\ttrain-map:0.67846\tvalid-map:0.67728\n",
      "[100]\ttrain-map:0.72482\tvalid-map:0.72388\n",
      "[200]\ttrain-map:0.72852\tvalid-map:0.72642\n",
      "[300]\ttrain-map:0.73069\tvalid-map:0.72753\n",
      "[400]\ttrain-map:0.73254\tvalid-map:0.72794\n",
      "[500]\ttrain-map:0.73412\tvalid-map:0.72861\n",
      "[600]\ttrain-map:0.73563\tvalid-map:0.72875\n",
      "[700]\ttrain-map:0.73688\tvalid-map:0.72914\n",
      "[800]\ttrain-map:0.73810\tvalid-map:0.72934\n",
      "[899]\ttrain-map:0.73941\tvalid-map:0.72947\n"
     ]
    },
    {
     "data": {
      "application/vnd.jupyter.widget-view+json": {
       "model_id": "87297f221bce43879914f6812577f79c",
       "version_major": 2,
       "version_minor": 0
      },
      "text/plain": [
       "  0%|          | 0/19 [00:00<?, ?it/s]"
      ]
     },
     "metadata": {},
     "output_type": "display_data"
    },
    {
     "name": "stdout",
     "output_type": "stream",
     "text": [
      "sampled: (1458871, 176)\n",
      "[0]\ttrain-map:0.77958\tvalid-map:0.77563\n",
      "[100]\ttrain-map:0.80783\tvalid-map:0.80170\n",
      "[200]\ttrain-map:0.81464\tvalid-map:0.80396\n",
      "[300]\ttrain-map:0.81974\tvalid-map:0.80446\n",
      "[399]\ttrain-map:0.82462\tvalid-map:0.80463\n",
      "[0]\ttrain-map:0.77864\tvalid-map:0.78076\n",
      "[100]\ttrain-map:0.80720\tvalid-map:0.80471\n",
      "[200]\ttrain-map:0.81352\tvalid-map:0.80683\n",
      "[300]\ttrain-map:0.81860\tvalid-map:0.80795\n",
      "[399]\ttrain-map:0.82343\tvalid-map:0.80828\n",
      "[0]\ttrain-map:0.77855\tvalid-map:0.77722\n",
      "[100]\ttrain-map:0.80787\tvalid-map:0.80271\n",
      "[200]\ttrain-map:0.81449\tvalid-map:0.80477\n",
      "[300]\ttrain-map:0.81961\tvalid-map:0.80543\n",
      "[399]\ttrain-map:0.82434\tvalid-map:0.80569\n",
      "[0]\ttrain-map:0.77993\tvalid-map:0.77430\n",
      "[100]\ttrain-map:0.80798\tvalid-map:0.80030\n",
      "[200]\ttrain-map:0.81454\tvalid-map:0.80290\n",
      "[300]\ttrain-map:0.81954\tvalid-map:0.80347\n",
      "[399]\ttrain-map:0.82477\tvalid-map:0.80350\n",
      "[0]\ttrain-map:0.77784\tvalid-map:0.77944\n",
      "[100]\ttrain-map:0.80699\tvalid-map:0.80486\n",
      "[200]\ttrain-map:0.81365\tvalid-map:0.80617\n",
      "[300]\ttrain-map:0.81872\tvalid-map:0.80660\n",
      "[399]\ttrain-map:0.82364\tvalid-map:0.80740\n"
     ]
    },
    {
     "data": {
      "application/vnd.jupyter.widget-view+json": {
       "model_id": "b0c0f5f36913458084ab887c6e457200",
       "version_major": 2,
       "version_minor": 0
      },
      "text/plain": [
       "  0%|          | 0/19 [00:00<?, ?it/s]"
      ]
     },
     "metadata": {},
     "output_type": "display_data"
    },
    {
     "name": "stdout",
     "output_type": "stream",
     "text": [
      "sampled: (866299, 176)\n",
      "[0]\ttrain-map:0.88552\tvalid-map:0.87839\n",
      "[100]\ttrain-map:0.91136\tvalid-map:0.90296\n",
      "[200]\ttrain-map:0.91881\tvalid-map:0.90465\n",
      "[300]\ttrain-map:0.92499\tvalid-map:0.90530\n",
      "[399]\ttrain-map:0.93100\tvalid-map:0.90552\n",
      "[0]\ttrain-map:0.88391\tvalid-map:0.88547\n",
      "[100]\ttrain-map:0.91111\tvalid-map:0.90471\n",
      "[200]\ttrain-map:0.91846\tvalid-map:0.90586\n",
      "[300]\ttrain-map:0.92485\tvalid-map:0.90587\n",
      "[399]\ttrain-map:0.93077\tvalid-map:0.90546\n",
      "[0]\ttrain-map:0.88305\tvalid-map:0.88102\n",
      "[100]\ttrain-map:0.91105\tvalid-map:0.90534\n",
      "[200]\ttrain-map:0.91866\tvalid-map:0.90683\n",
      "[300]\ttrain-map:0.92454\tvalid-map:0.90746\n",
      "[399]\ttrain-map:0.93066\tvalid-map:0.90749\n",
      "[0]\ttrain-map:0.88407\tvalid-map:0.88257\n",
      "[100]\ttrain-map:0.91048\tvalid-map:0.90723\n",
      "[200]\ttrain-map:0.91791\tvalid-map:0.90845\n",
      "[300]\ttrain-map:0.92420\tvalid-map:0.90830\n",
      "[399]\ttrain-map:0.93062\tvalid-map:0.90801\n",
      "[0]\ttrain-map:0.88476\tvalid-map:0.88157\n",
      "[100]\ttrain-map:0.91112\tvalid-map:0.90328\n",
      "[200]\ttrain-map:0.91894\tvalid-map:0.90520\n",
      "[300]\ttrain-map:0.92526\tvalid-map:0.90491\n",
      "[399]\ttrain-map:0.93092\tvalid-map:0.90563\n"
     ]
    }
   ],
   "source": [
    "from catboost import CatBoostRanker, Pool, MetricVisualizer\n",
    "\n",
    "model_iters = {}\n",
    "\n",
    "for type_str in tqdm(list(type_labels.keys())):\n",
    "    \n",
    "#     pf = ParquetFile(f\"./candidated_features/local_{type_str}_all_data.pqt\") \n",
    "    \n",
    "#     whole_df = pd.read_parquet(f\"./candidated_features/local_{type_str}_all_data.pqt\").reset_index(drop=True)\n",
    "   \n",
    "    whole_df = []\n",
    "    batches = sorted(glob.glob(f\"./candidated_features/local_{type_str}_all_data_{CANDIDATE_COUNT}candidates_p*.pqt\"))\n",
    "    \n",
    "    for batch in tqdm(batches):\n",
    "        \n",
    "        batch = pd.read_parquet(batch)#.drop(labels=[\"candidate_rank\"], axis=1)\n",
    "        batch = remove_negative_session(batch)\n",
    "#         batch.drop(dropcols, 1, inplace=True)\n",
    "        batch = batch[batch.session.isin(train_sessions)].reset_index(drop=True)\n",
    "        #batch = batch.drop(labels=[col for col in batch.columns if col[:4]==\"type\"], axis=1)\n",
    "        positives = batch.loc[batch['label']==1].copy()\n",
    "        negatives = batch.loc[batch['label']==0].groupby(\"session\").sample(frac=type_fracs[type_str],\n",
    "                                                                           random_state=1337)\n",
    "        whole_df.append(positives)\n",
    "        whole_df.append(negatives)\n",
    "        del batch, positives, negatives\n",
    "        \n",
    "    whole_df = pd.concat(whole_df, axis=0, ignore_index=True)\n",
    "#     whole_df = df_shrink(whole_df)\n",
    "    \n",
    "    print(f\"sampled: {whole_df.shape}\")\n",
    "\n",
    "    FEATURES = whole_df.columns[2 : -1]   \n",
    "    \n",
    "    whole_df = whole_df.sort_values('session').reset_index(drop=True)\n",
    "#     group_counts = whole_df.groupby('session', sort=False).session.agg('count').values\n",
    "    \n",
    "    skf = GroupKFold(n_splits=5)\n",
    "    for fold, (train_idx, valid_idx) in enumerate(skf.split(whole_df,\n",
    "                                                            whole_df['label'],\n",
    "                                                            groups=whole_df['session'])):\n",
    "        X_train = whole_df.loc[train_idx, FEATURES]\n",
    "        y_train = whole_df.loc[train_idx, 'label']\n",
    "        X_valid = whole_df.loc[valid_idx, FEATURES]\n",
    "        y_valid = whole_df.loc[valid_idx, 'label']\n",
    "\n",
    "        train_groups = whole_df.loc[train_idx].groupby('session', sort=False)[\"session\"].agg('count').values\n",
    "        val_groups = whole_df.loc[valid_idx].groupby('session', sort=False)[\"session\"].agg('count').values\n",
    "        \n",
    "\n",
    "        dtrain = xgb.DMatrix(X_train, y_train, group = train_groups) \n",
    "        dtest = xgb.DMatrix(X_valid, y_valid, group = val_groups) \n",
    "#         print(k)\n",
    "        xgb_parms = {'objective':'rank:pairwise',\n",
    "                     'tree_method':'gpu_hist',\n",
    "                    \"random_state\":42, \n",
    "#                      \"eval_metric\":'map',\n",
    "                    \"learning_rate\":0.1,\n",
    "                    \"colsample_bytree\":0.9, \n",
    "                    \"eta\":0.05, \n",
    "#                     \"gamma\": 2,\n",
    "#                     \"min_child_weight\": 50,\n",
    "                    \"max_depth\":6, \n",
    "                    \"subsample\":0.9,\n",
    "#                      \"grow_policy\": \"lossguide\"\n",
    "                    }\n",
    "#         xgb_parms = type_params[type_str]\n",
    "        model = xgb.train(xgb_parms,\n",
    "                          dtrain=dtrain,\n",
    "                          evals=[(dtrain,'train'),(dtest,'valid')],\n",
    "                          num_boost_round = type_iters[type_str],\n",
    "#                           early_stopping_rounds=25,\n",
    "                          verbose_eval=100)\n",
    "\n",
    "\n",
    "#         train_groups = whole_df.loc[train_idx, \"session\"].values\n",
    "#         val_groups = whole_df.loc[valid_idx, \"session\"].values\n",
    "\n",
    "#         train = Pool(\n",
    "#             data=X_train,\n",
    "#             label=y_train,\n",
    "#             group_id=train_groups\n",
    "#         )\n",
    "\n",
    "#         test = Pool(\n",
    "#             data=X_valid,\n",
    "#             label=y_valid,\n",
    "#             group_id=val_groups\n",
    "#         )\n",
    "        \n",
    "#         loss = \"YetiRankPairwise\"\n",
    "#         cb_parameters = {\n",
    "#             'iterations': 10000,\n",
    "#             'loss_function': loss,\n",
    "#             'train_dir': loss,\n",
    "#             'task_type': 'GPU',\n",
    "#             'depth': 7,\n",
    "#             'learning_rate': 0.025,\n",
    "# #             'custom_metric': ['RecallAt:top=20', 'PrecisionAt:top=20'],\n",
    "# #             'eval_metric': ['MAP'],\n",
    "#             'early_stopping_rounds': 200,\n",
    "# #             'metric_period':0,\n",
    "#             'verbose': 100,\n",
    "#             'random_seed': 0,\n",
    "#         }\n",
    "#         model = CatBoostRanker(**cb_parameters)\n",
    "#         model.fit(train,\n",
    "#                   eval_set=test,\n",
    "# #                   plot=True\n",
    "#                  )\n",
    "        \n",
    "#         print(np.mean(model.eval_metrics(test, ['MAP'])['MAP']))\n",
    "    \n",
    "        \n",
    "        model_path = f'./models/XGB_{CANDIDATE_COUNT}candidates_fold{fold}_{type_str}.xgb'\n",
    "        model.save_model(model_path)\n",
    "        \n",
    "        model_iters[model_path] = model.best_ntree_limit\n",
    "        \n",
    "#         model.save_model(f'./models/CB_{CANDIDATE_COUNT}candidates_fold{fold}_{type_str}.cb')\n",
    "        del model, X_train, y_train, X_valid, y_valid, dtrain, dtest\n",
    "        \n",
    "        for i in range(5):\n",
    "            gc.collect()\n",
    "            \n",
    "    del whole_df\n",
    "    for i in range(5):\n",
    "        gc.collect()"
   ]
  },
  {
   "cell_type": "code",
   "execution_count": 8,
   "id": "e494a9ee",
   "metadata": {},
   "outputs": [],
   "source": [
    "#         xgb_parms = {'objective':'rank:pairwise',\n",
    "#                      'tree_method':'gpu_hist',\n",
    "#                     \"random_state\":42, \n",
    "# #                      \"eval_metric\":'map@20',\n",
    "# #                     \"learning_rate\":0.1,\n",
    "#                     \"colsample_bytree\":0.3, \n",
    "#                     \"eta\":0.07, \n",
    "# #                     \"gamma\": 2,\n",
    "#                     \"min_child_weight\": 20,\n",
    "#                     \"max_depth\":7, \n",
    "# #                     \"subsample\":0.2,\n",
    "# #                      \"grow_policy\": \"lossguide\"\n",
    "#                     }\n",
    "# #         xgb_parms = type_params[type_str]\n",
    "#         model = xgb.train(xgb_parms,\n",
    "#                           dtrain=dtrain,\n",
    "#                           evals=[(dtrain,'train'),(dtest,'valid')],\n",
    "#                           num_boost_round=1000,\n",
    "#                           early_stopping_rounds=50,\n",
    "#                           verbose_eval=100)\n",
    "#         print(model.best_score, model.best_ntree_limit)"
   ]
  },
  {
   "cell_type": "code",
   "execution_count": 9,
   "id": "c5fe2685",
   "metadata": {},
   "outputs": [],
   "source": [
    "# del model\n",
    "# for i in range(5):\n",
    "#     gc.collect()"
   ]
  },
  {
   "cell_type": "code",
   "execution_count": 10,
   "id": "eb48cf94",
   "metadata": {},
   "outputs": [],
   "source": [
    "import json\n",
    "with open('./models/model_iters.json', 'w') as fp:\n",
    "    json.dump(model_iters, fp)"
   ]
  },
  {
   "cell_type": "code",
   "execution_count": 11,
   "id": "c8f3ce00",
   "metadata": {},
   "outputs": [
    {
     "ename": "NameError",
     "evalue": "name 'k' is not defined",
     "output_type": "error",
     "traceback": [
      "\u001b[0;31m---------------------------------------------------------------------------\u001b[0m",
      "\u001b[0;31mNameError\u001b[0m                                 Traceback (most recent call last)",
      "Cell \u001b[0;32mIn [11], line 1\u001b[0m\n\u001b[0;32m----> 1\u001b[0m \u001b[38;5;28mprint\u001b[39m(\u001b[43mk\u001b[49m)\n",
      "\u001b[0;31mNameError\u001b[0m: name 'k' is not defined"
     ]
    }
   ],
   "source": [
    "print(k)"
   ]
  },
  {
   "cell_type": "code",
   "execution_count": null,
   "id": "6b6e9b39",
   "metadata": {},
   "outputs": [],
   "source": [
    "import optuna\n",
    "from optuna.integration import CatBoostPruningCallback\n",
    "from sklearn.svm import SVC\n",
    "from sklearn.linear_model import LogisticRegression\n",
    "from sklearn.preprocessing import StandardScaler, MinMaxScaler\n",
    "from sklearn.pipeline import Pipeline\n",
    "from sklearn.ensemble import RandomForestClassifier\n",
    "from sklearn.tree import DecisionTreeClassifier\n",
    "from sklearn.neighbors import KNeighborsClassifier, RadiusNeighborsClassifier\n",
    "from sklearn.model_selection import cross_val_score\n",
    "from sklearn.metrics import f1_score, precision_score, recall_score, fbeta_score, make_scorer\n",
    "\n",
    "import xgboost as xgb\n",
    "\n",
    "def xgb_objective(trial,\n",
    "                                          scorer,\n",
    "                                          input_train,\n",
    "                                          input_test,\n",
    "                                          seed=1337):\n",
    "\n",
    "    param = {\n",
    "        \"objective\": trial.suggest_categorical('objective', [\"rank:pairwise\"]),\n",
    "        \"booster\": trial.suggest_categorical(\"booster\", [\"gbtree\"]),\n",
    "        \"tree_method\": trial.suggest_categorical(\"tree_method\", [\"gpu_hist\"]),\n",
    "        \"lambda\": trial.suggest_float(\"lambda\", 1e-8, 1.0),\n",
    "        \"alpha\": trial.suggest_float(\"alpha\", 1e-8, 1.0),\n",
    "        \"subsample\": trial.suggest_float(\"subsample\", 0.6, 1.0),\n",
    "        \"colsample_bytree\": trial.suggest_float(\"colsample_bytree\", 0.6, 1.0),\n",
    "        'random_state': trial.suggest_categorical('random_state', [seed]),\n",
    "    }\n",
    "\n",
    "    if param[\"booster\"] == \"gbtree\" or param[\"booster\"] == \"dart\":\n",
    "        param[\"max_depth\"] = trial.suggest_int(\"max_depth\", 1, 7)\n",
    "        param[\"eta\"] = trial.suggest_float(\"eta\", 1e-8, 1.0)\n",
    "        param[\"gamma\"] = trial.suggest_float(\"gamma\", 1e-8, 1.0)\n",
    "#         param[\"grow_policy\"] = trial.suggest_categorical(\"grow_policy\", [\"depthwise\", \"lossguide\"])\n",
    "    \n",
    "    model = xgb.train(param,\n",
    "                      dtrain=input_train,\n",
    "                      evals=[(input_train,'train'),(input_test,'valid')],\n",
    "                      num_boost_round=1000,\n",
    "                      early_stopping_rounds=50,\n",
    "                      verbose_eval=100)\n",
    "    score = model.best_score\n",
    "    \n",
    "    del model\n",
    "    gc.collect()\n",
    "    \n",
    "    return score\n",
    "\n",
    "\n",
    "trial_func = lambda trial: xgb_objective(trial=trial,\n",
    "                                          scorer=f1_score,\n",
    "                                          input_train=dtrain,\n",
    "                                          input_test=dtest,\n",
    "                                          seed=1337)\n",
    "    \n",
    "optuna.logging.set_verbosity(1)\n",
    "\n",
    "\n",
    "study = optuna.create_study(study_name=\"xgb_otto\",\n",
    "                            sampler=optuna.samplers.TPESampler(seed=1337),\n",
    "                            direction=\"maximize\"\n",
    "                            )\n",
    "\n",
    "study.optimize(trial_func,\n",
    "               n_trials=100)"
   ]
  },
  {
   "cell_type": "code",
   "execution_count": null,
   "id": "544965a3",
   "metadata": {},
   "outputs": [],
   "source": [
    "feat_importances = pd.Series(model.get_feature_importance(data=train), index=whole_df[FEATURES].columns)"
   ]
  },
  {
   "cell_type": "code",
   "execution_count": null,
   "id": "8954e6f4",
   "metadata": {},
   "outputs": [],
   "source": [
    "feat_importances.nlargest(30).plot(kind='barh')"
   ]
  },
  {
   "cell_type": "code",
   "execution_count": null,
   "id": "f834c57b",
   "metadata": {},
   "outputs": [],
   "source": [
    "del model"
   ]
  },
  {
   "cell_type": "code",
   "execution_count": null,
   "id": "8edee500",
   "metadata": {},
   "outputs": [],
   "source": []
  }
 ],
 "metadata": {
  "kernelspec": {
   "display_name": "Python 3 (ipykernel)",
   "language": "python",
   "name": "python3"
  },
  "language_info": {
   "codemirror_mode": {
    "name": "ipython",
    "version": 3
   },
   "file_extension": ".py",
   "mimetype": "text/x-python",
   "name": "python",
   "nbconvert_exporter": "python",
   "pygments_lexer": "ipython3",
   "version": "3.8.13"
  },
  "papermill": {
   "default_parameters": {},
   "duration": 3695.647257,
   "end_time": "2022-11-28T19:50:53.428271",
   "environment_variables": {},
   "exception": null,
   "input_path": "__notebook__.ipynb",
   "output_path": "__notebook__.ipynb",
   "parameters": {},
   "start_time": "2022-11-28T18:49:17.781014",
   "version": "2.3.4"
  }
 },
 "nbformat": 4,
 "nbformat_minor": 5
}
