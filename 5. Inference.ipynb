{
 "cells": [
  {
   "cell_type": "code",
   "execution_count": 1,
   "id": "19803c5d",
   "metadata": {
    "execution": {
     "iopub.execute_input": "2022-11-28T18:49:25.672561Z",
     "iopub.status.busy": "2022-11-28T18:49:25.671835Z",
     "iopub.status.idle": "2022-11-28T18:49:28.346781Z",
     "shell.execute_reply": "2022-11-28T18:49:28.345442Z"
    },
    "papermill": {
     "duration": 2.696152,
     "end_time": "2022-11-28T18:49:28.349900",
     "exception": false,
     "start_time": "2022-11-28T18:49:25.653748",
     "status": "completed"
    },
    "scrolled": true,
    "tags": []
   },
   "outputs": [
    {
     "name": "stdout",
     "output_type": "stream",
     "text": [
      "We will use RAPIDS version 22.10.00a+392.g1558403753\n",
      "INFO: Pandarallel will run on 4 workers.\n",
      "INFO: Pandarallel will use standard multiprocessing data transfer (pipe) to transfer data between the main process and workers.\n"
     ]
    }
   ],
   "source": [
    "VER = 6\n",
    "\n",
    "import pandas as pd, numpy as np\n",
    "from tqdm.notebook import tqdm\n",
    "tqdm.pandas()\n",
    "\n",
    "import os, sys, pickle, glob, gc\n",
    "from collections import Counter\n",
    "import cudf, itertools\n",
    "print('We will use RAPIDS version',cudf.__version__)\n",
    "\n",
    "pd.set_option('display.max_rows', 500)\n",
    "pd.set_option('display.max_columns', 500)\n",
    "\n",
    "from pandarallel import pandarallel\n",
    "\n",
    "pandarallel.initialize(nb_workers=4, progress_bar=True, use_memory_fs=False)\n",
    "\n",
    "import xgboost as xgb\n",
    "from sklearn.model_selection import GroupKFold\n",
    "\n",
    "from pyarrow.parquet import ParquetFile\n",
    "import pyarrow as pa \n",
    "\n",
    "from catboost import CatBoostRanker, Pool"
   ]
  },
  {
   "cell_type": "markdown",
   "id": "e2505537",
   "metadata": {
    "papermill": {
     "duration": 0.020472,
     "end_time": "2022-11-28T18:57:43.433117",
     "exception": false,
     "start_time": "2022-11-28T18:57:43.412645",
     "status": "completed"
    },
    "tags": []
   },
   "source": [
    "# Training"
   ]
  },
  {
   "cell_type": "code",
   "execution_count": 2,
   "id": "e70b81b7",
   "metadata": {},
   "outputs": [],
   "source": [
    "type_labels = {'clicks':0, 'carts':1, 'orders':2}"
   ]
  },
  {
   "cell_type": "code",
   "execution_count": 3,
   "id": "67b29238",
   "metadata": {},
   "outputs": [],
   "source": [
    "CANDIDATE_COUNT = 100"
   ]
  },
  {
   "cell_type": "code",
   "execution_count": 4,
   "id": "ec6758ee",
   "metadata": {},
   "outputs": [],
   "source": [
    "RUN_FOR = \"kaggle\" # \"kaggle\""
   ]
  },
  {
   "cell_type": "code",
   "execution_count": 5,
   "id": "2874c301",
   "metadata": {},
   "outputs": [],
   "source": [
    "train_sessions = np.load(\"./splitted_raw_data/val_sessions_for_train.npy\", allow_pickle=True)"
   ]
  },
  {
   "cell_type": "code",
   "execution_count": 6,
   "id": "d98185d8",
   "metadata": {},
   "outputs": [],
   "source": [
    "import json\n",
    "\n",
    "with open(\"./models/model_iters.json\", \"r\") as read_file:\n",
    "    model_iters = json.load(read_file)"
   ]
  },
  {
   "cell_type": "code",
   "execution_count": 7,
   "id": "bc7bac35",
   "metadata": {},
   "outputs": [],
   "source": [
    "dropcols = [\n",
    "    'type0_session_aid_aid_existed',\n",
    "       'type0_session_aid_aid_existed_multiple',\n",
    "       'type1_session_aid_aid_existed',\n",
    "       'type1_session_aid_aid_existed_multiple',\n",
    "       'type2_session_aid_aid_existed',\n",
    "       'type2_session_aid_aid_existed_multiple',\n",
    "    'type0_aid_aid_existed', 'type0_aid_aid_existed_multiple',\n",
    "       'type0_aid_session_existed', 'type0_aid_session_existed_multiple',\n",
    "       'type1_aid_aid_existed', 'type1_aid_aid_existed_multiple',\n",
    "       'type1_aid_session_existed', 'type1_aid_session_existed_multiple',\n",
    "       'type2_aid_aid_existed', 'type2_aid_aid_existed_multiple',\n",
    "       'type2_aid_session_existed', 'type2_aid_session_existed_multiple',\n",
    "    'all_carts_orders_wgt_min', 'all_carts_orders_wgt_std',\n",
    "       'all_carts_orders_wgt_sum', 'all_carts_orders_wgt_mean',\n",
    "       'all_carts_orders_wgt_count', 'all_buy2buy_wgt_max',\n",
    "       'all_buy2buy_wgt_min', 'all_buy2buy_wgt_std', 'all_buy2buy_wgt_sum',\n",
    "       'all_buy2buy_wgt_mean', 'all_buy2buy_wgt_count', 'aid_session_existed',\n",
    "    'clicks_covisit_max',\n",
    "       'clicks_covisit_min', 'clicks_covisit_std', 'clicks_covisit_sum',\n",
    "       'clicks_covisit_mean', 'clicks_covisit_count',\n",
    "       'carts_orders_covisit_max', 'carts_orders_covisit_min',\n",
    "       'carts_orders_covisit_std', 'carts_orders_covisit_sum',\n",
    "       'carts_orders_covisit_mean', 'carts_orders_covisit_count',\n",
    "       'buy2buy_covisit_max', 'buy2buy_covisit_min', 'buy2buy_covisit_std',\n",
    "       'buy2buy_covisit_sum', 'buy2buy_covisit_mean', 'buy2buy_covisit_count',\n",
    "    'all_clicks_wgt_max',\n",
    "       'all_clicks_wgt_min', 'all_clicks_wgt_std', 'all_clicks_wgt_sum',\n",
    "       'all_clicks_wgt_mean', 'all_clicks_wgt_count',\n",
    "       'all_carts_orders_wgt_max'\n",
    "]"
   ]
  },
  {
   "cell_type": "code",
   "execution_count": 8,
   "id": "fb75eb40",
   "metadata": {
    "scrolled": false
   },
   "outputs": [
    {
     "data": {
      "application/vnd.jupyter.widget-view+json": {
       "model_id": "efe50b52c78341adb6dce64d31d2d4db",
       "version_major": 2,
       "version_minor": 0
      },
      "text/plain": [
       "  0%|          | 0/3 [00:00<?, ?it/s]"
      ]
     },
     "metadata": {},
     "output_type": "display_data"
    },
    {
     "data": {
      "application/vnd.jupyter.widget-view+json": {
       "model_id": "c8fa0a6967ce4588bc90b45f40b96c45",
       "version_major": 2,
       "version_minor": 0
      },
      "text/plain": [
       "  0%|          | 0/17 [00:00<?, ?it/s]"
      ]
     },
     "metadata": {},
     "output_type": "display_data"
    },
    {
     "name": "stdout",
     "output_type": "stream",
     "text": [
      "Processing 10000000 rows...\n",
      "Processing 10000000 rows...\n",
      "Processing 10000000 rows...\n",
      "Processing 10000000 rows...\n",
      "Processing 10000000 rows...\n",
      "Processing 10000000 rows...\n",
      "Processing 10000000 rows...\n",
      "Processing 10000000 rows...\n",
      "Processing 7180300 rows...\n",
      "Processing 10000000 rows...\n",
      "Processing 10000000 rows...\n",
      "Processing 10000000 rows...\n",
      "Processing 10000000 rows...\n",
      "Processing 10000000 rows...\n",
      "Processing 10000000 rows...\n",
      "Processing 10000000 rows...\n",
      "Processing 10000000 rows...\n"
     ]
    },
    {
     "name": "stderr",
     "output_type": "stream",
     "text": [
      "/tmp/ipykernel_68994/3607547569.py:62: UserWarning: Pandas doesn't allow columns to be created via a new attribute name - see https://pandas.pydata.org/pandas-docs/stable/indexing.html#attribute-access\n",
      "  sub.item = sub.aid.apply(lambda x: \" \".join(map(str,x)))\n"
     ]
    },
    {
     "data": {
      "application/vnd.jupyter.widget-view+json": {
       "model_id": "f390e9b8e0c84092bcef3356517eaf02",
       "version_major": 2,
       "version_minor": 0
      },
      "text/plain": [
       "  0%|          | 0/17 [00:00<?, ?it/s]"
      ]
     },
     "metadata": {},
     "output_type": "display_data"
    },
    {
     "name": "stdout",
     "output_type": "stream",
     "text": [
      "Processing 10000000 rows...\n",
      "Processing 10000000 rows...\n",
      "Processing 10000000 rows...\n",
      "Processing 10000000 rows...\n",
      "Processing 10000000 rows...\n",
      "Processing 10000000 rows...\n",
      "Processing 10000000 rows...\n",
      "Processing 10000000 rows...\n",
      "Processing 7180300 rows...\n",
      "Processing 10000000 rows...\n",
      "Processing 10000000 rows...\n",
      "Processing 10000000 rows...\n",
      "Processing 10000000 rows...\n",
      "Processing 10000000 rows...\n",
      "Processing 10000000 rows...\n",
      "Processing 10000000 rows...\n",
      "Processing 10000000 rows...\n"
     ]
    },
    {
     "name": "stderr",
     "output_type": "stream",
     "text": [
      "/tmp/ipykernel_68994/3607547569.py:62: UserWarning: Pandas doesn't allow columns to be created via a new attribute name - see https://pandas.pydata.org/pandas-docs/stable/indexing.html#attribute-access\n",
      "  sub.item = sub.aid.apply(lambda x: \" \".join(map(str,x)))\n"
     ]
    },
    {
     "data": {
      "application/vnd.jupyter.widget-view+json": {
       "model_id": "b6f8b1f18ecd4eedb2c3deb6b7591e49",
       "version_major": 2,
       "version_minor": 0
      },
      "text/plain": [
       "  0%|          | 0/17 [00:00<?, ?it/s]"
      ]
     },
     "metadata": {},
     "output_type": "display_data"
    },
    {
     "name": "stdout",
     "output_type": "stream",
     "text": [
      "Processing 10000000 rows...\n",
      "Processing 10000000 rows...\n",
      "Processing 10000000 rows...\n",
      "Processing 10000000 rows...\n",
      "Processing 10000000 rows...\n",
      "Processing 10000000 rows...\n",
      "Processing 10000000 rows...\n",
      "Processing 10000000 rows...\n",
      "Processing 7180300 rows...\n",
      "Processing 10000000 rows...\n",
      "Processing 10000000 rows...\n",
      "Processing 10000000 rows...\n",
      "Processing 10000000 rows...\n",
      "Processing 10000000 rows...\n",
      "Processing 10000000 rows...\n",
      "Processing 10000000 rows...\n",
      "Processing 10000000 rows...\n"
     ]
    },
    {
     "name": "stderr",
     "output_type": "stream",
     "text": [
      "/tmp/ipykernel_68994/3607547569.py:62: UserWarning: Pandas doesn't allow columns to be created via a new attribute name - see https://pandas.pydata.org/pandas-docs/stable/indexing.html#attribute-access\n",
      "  sub.item = sub.aid.apply(lambda x: \" \".join(map(str,x)))\n"
     ]
    }
   ],
   "source": [
    "subs = []\n",
    "\n",
    "for type_str in tqdm(list(type_labels.keys())):\n",
    "        \n",
    "    batches = sorted(glob.glob(f\"./candidated_features/{RUN_FOR}_{type_str}_all_data_{CANDIDATE_COUNT}candidates_p*.pqt\"))\n",
    "\n",
    "    model_paths = sorted(glob.glob(f\"./models/XGB_{CANDIDATE_COUNT}candidates_fold*_{type_str}.xgb\"))\n",
    "#     model_paths = sorted(glob.glob(f\"./models/CB_{CANDIDATE_COUNT}candidates_fold*_{type_str}.cb\"))\n",
    "\n",
    "    all_predictions = []\n",
    "    \n",
    "    for batch in tqdm(batches):\n",
    "        whole_df = pd.read_parquet(batch)#.drop(labels=[\"candidate_rank\"], axis=1)\n",
    "        #whole_df = whole_df.drop(labels=[col for col in whole_df.columns if col[:4]==\"type\"], axis=1)\n",
    "\n",
    "        if RUN_FOR == \"local\":\n",
    "            whole_df = whole_df[~whole_df.session.isin(train_sessions)].reset_index(drop=True)\n",
    "        \n",
    "        print(f\"Processing {len(whole_df)} rows...\")\n",
    "\n",
    "        CHUNK_SIZE = 4_000_000\n",
    "        \n",
    "        for chunk_num in range(len(whole_df) // CHUNK_SIZE + 1):\n",
    "            start_index = chunk_num*CHUNK_SIZE\n",
    "            end_index = min(chunk_num*CHUNK_SIZE + CHUNK_SIZE, len(whole_df))\n",
    "            chunk_df = whole_df.iloc[start_index:end_index]#.drop(dropcols, 1)\n",
    "\n",
    "            FEATURES = chunk_df.columns[2 : -1]\n",
    "            dtest = xgb.DMatrix(data=chunk_df[FEATURES])\n",
    "    #         dtest = Pool(\n",
    "    #             data=whole_df[FEATURES]\n",
    "    #         )\n",
    "\n",
    "            preds = np.zeros(len(chunk_df))\n",
    "\n",
    "            for model_path in model_paths:\n",
    "    #             target_it = int(model_path.split(\"_it\")[-1].split(\".xgb\")[0])\n",
    "    #             model = CatBoostRanker()\n",
    "    #             model.load_model(model_path)\n",
    "\n",
    "                model = xgb.Booster()\n",
    "                model.load_model(model_path)\n",
    "                model.set_param({'predictor': 'gpu_predictor'})\n",
    "\n",
    "                preds += model.predict(dtest,\n",
    "#                                        iteration_range = (0, model_iters[model_path]+1)\n",
    "                                      )/len(model_paths)\n",
    "\n",
    "            predictions = chunk_df[['session','aid']].copy()\n",
    "            predictions['pred'] = preds\n",
    "            all_predictions.append(predictions)\n",
    "        \n",
    "    all_predictions = pd.concat(all_predictions, ignore_index=True)\n",
    "    \n",
    "    all_predictions = all_predictions.sort_values(['session','pred'],\n",
    "                                                  ascending=[True,False]).reset_index(drop=True)\n",
    "    all_predictions['n'] = all_predictions.groupby('session').aid.cumcount().astype('int8')\n",
    "    all_predictions = all_predictions.loc[all_predictions.n<20]\n",
    "\n",
    "    sub = all_predictions.groupby('session').aid.apply(list)\n",
    "    sub = sub.to_frame().reset_index()\n",
    "    sub.item = sub.aid.apply(lambda x: \" \".join(map(str,x)))\n",
    "    sub.columns = ['session_type','labels']\n",
    "    sub.session_type = sub.session_type.astype('str') + '_' + type_str\n",
    "\n",
    "    subs.append(sub)"
   ]
  },
  {
   "cell_type": "markdown",
   "id": "988d59c2",
   "metadata": {},
   "source": [
    "## Local Score"
   ]
  },
  {
   "cell_type": "code",
   "execution_count": 9,
   "id": "09b4d352",
   "metadata": {},
   "outputs": [],
   "source": [
    "final_sub = pd.concat(subs, ignore_index=True)\n",
    "final_sub.sort_values(by=\"session_type\", ascending=True).reset_index(drop=True)\n",
    "\n",
    "if RUN_FOR == \"local\":\n",
    "    # COMPUTE METRIC\n",
    "    score = 0\n",
    "    weights = {'clicks': 0.10, 'carts': 0.30, 'orders': 0.60}\n",
    "    for t in ['clicks','carts','orders']:\n",
    "        sub = final_sub.loc[final_sub.session_type.str.contains(t)].copy()\n",
    "        sub['session'] = sub.session_type.apply(lambda x: int(x.split('_')[0]))\n",
    "    #     sub.labels = sub.labels.apply(lambda x: [int(i) for i in x.split(' ')[:20]])\n",
    "        test_labels = pd.read_parquet('./splitted_raw_data/val_labels.parquet')\n",
    "        test_labels = test_labels[~test_labels.session.isin(train_sessions)].reset_index(drop=True)\n",
    "        test_labels = test_labels.loc[test_labels['type']==t]\n",
    "        test_labels = test_labels.merge(sub, how='left', on=['session'])\n",
    "        test_labels['hits'] = test_labels.apply(lambda df: len(set(df.ground_truth).intersection(set(df.labels))), axis=1)\n",
    "        test_labels['gt_count'] = test_labels.ground_truth.str.len().clip(0,20)\n",
    "        recall = test_labels['hits'].sum() / test_labels['gt_count'].sum()\n",
    "        score += weights[t]*recall\n",
    "        print(f'{t} recall =',recall)\n",
    "\n",
    "    print('=============')\n",
    "    print('Overall Recall =',score)\n",
    "    print('=============')\n",
    "\n",
    "elif RUN_FOR == \"kaggle\":\n",
    "    final_sub[\"labels\"] = final_sub.labels.apply(lambda x: \" \".join([str(elm) for elm in x]))\n",
    "#     final_sub.to_csv(\"submission.csv\", index=False)\n",
    "    final_sub.to_csv(\"submission.csv.gz\", index=False, compression='gzip')"
   ]
  },
  {
   "cell_type": "code",
   "execution_count": 10,
   "id": "152fd19a",
   "metadata": {},
   "outputs": [
    {
     "data": {
      "text/html": [
       "<div>\n",
       "<style scoped>\n",
       "    .dataframe tbody tr th:only-of-type {\n",
       "        vertical-align: middle;\n",
       "    }\n",
       "\n",
       "    .dataframe tbody tr th {\n",
       "        vertical-align: top;\n",
       "    }\n",
       "\n",
       "    .dataframe thead th {\n",
       "        text-align: right;\n",
       "    }\n",
       "</style>\n",
       "<table border=\"1\" class=\"dataframe\">\n",
       "  <thead>\n",
       "    <tr style=\"text-align: right;\">\n",
       "      <th></th>\n",
       "      <th>session_type</th>\n",
       "      <th>labels</th>\n",
       "    </tr>\n",
       "  </thead>\n",
       "  <tbody>\n",
       "    <tr>\n",
       "      <th>0</th>\n",
       "      <td>12899779_clicks</td>\n",
       "      <td>59625 1253524 737445 731692 1790770 438191 339...</td>\n",
       "    </tr>\n",
       "    <tr>\n",
       "      <th>1</th>\n",
       "      <td>12899780_clicks</td>\n",
       "      <td>1142000 736515 582732 973453 889686 487136 134...</td>\n",
       "    </tr>\n",
       "    <tr>\n",
       "      <th>2</th>\n",
       "      <td>12899781_clicks</td>\n",
       "      <td>199008 918667 141736 1460571 754412 811084 100...</td>\n",
       "    </tr>\n",
       "    <tr>\n",
       "      <th>3</th>\n",
       "      <td>12899782_clicks</td>\n",
       "      <td>595994 1007613 834354 740494 1033148 975116 98...</td>\n",
       "    </tr>\n",
       "    <tr>\n",
       "      <th>4</th>\n",
       "      <td>12899783_clicks</td>\n",
       "      <td>1817895 607638 1754419 1216820 1729553 198385 ...</td>\n",
       "    </tr>\n",
       "    <tr>\n",
       "      <th>...</th>\n",
       "      <td>...</td>\n",
       "      <td>...</td>\n",
       "    </tr>\n",
       "    <tr>\n",
       "      <th>5015404</th>\n",
       "      <td>14571577_orders</td>\n",
       "      <td>1141710 1276792 86916 367734 631085 1666114 10...</td>\n",
       "    </tr>\n",
       "    <tr>\n",
       "      <th>5015405</th>\n",
       "      <td>14571578_orders</td>\n",
       "      <td>519105 1811714 822641 815460 1084758 476318 97...</td>\n",
       "    </tr>\n",
       "    <tr>\n",
       "      <th>5015406</th>\n",
       "      <td>14571579_orders</td>\n",
       "      <td>739876 1750859 785544 51363 857928 436188 1445...</td>\n",
       "    </tr>\n",
       "    <tr>\n",
       "      <th>5015407</th>\n",
       "      <td>14571580_orders</td>\n",
       "      <td>202353 433425 1314576 1231403 888228 356096 89...</td>\n",
       "    </tr>\n",
       "    <tr>\n",
       "      <th>5015408</th>\n",
       "      <td>14571581_orders</td>\n",
       "      <td>1100210 1401429 1684953 1072049 622489 636390 ...</td>\n",
       "    </tr>\n",
       "  </tbody>\n",
       "</table>\n",
       "<p>5015409 rows × 2 columns</p>\n",
       "</div>"
      ],
      "text/plain": [
       "            session_type                                             labels\n",
       "0        12899779_clicks  59625 1253524 737445 731692 1790770 438191 339...\n",
       "1        12899780_clicks  1142000 736515 582732 973453 889686 487136 134...\n",
       "2        12899781_clicks  199008 918667 141736 1460571 754412 811084 100...\n",
       "3        12899782_clicks  595994 1007613 834354 740494 1033148 975116 98...\n",
       "4        12899783_clicks  1817895 607638 1754419 1216820 1729553 198385 ...\n",
       "...                  ...                                                ...\n",
       "5015404  14571577_orders  1141710 1276792 86916 367734 631085 1666114 10...\n",
       "5015405  14571578_orders  519105 1811714 822641 815460 1084758 476318 97...\n",
       "5015406  14571579_orders  739876 1750859 785544 51363 857928 436188 1445...\n",
       "5015407  14571580_orders  202353 433425 1314576 1231403 888228 356096 89...\n",
       "5015408  14571581_orders  1100210 1401429 1684953 1072049 622489 636390 ...\n",
       "\n",
       "[5015409 rows x 2 columns]"
      ]
     },
     "execution_count": 10,
     "metadata": {},
     "output_type": "execute_result"
    }
   ],
   "source": [
    "final_sub"
   ]
  },
  {
   "cell_type": "code",
   "execution_count": 11,
   "id": "737ca2df",
   "metadata": {},
   "outputs": [
    {
     "ename": "AttributeError",
     "evalue": "'Booster' object has no attribute 'feature_importances_'",
     "output_type": "error",
     "traceback": [
      "\u001b[0;31m---------------------------------------------------------------------------\u001b[0m",
      "\u001b[0;31mAttributeError\u001b[0m                            Traceback (most recent call last)",
      "Cell \u001b[0;32mIn [11], line 1\u001b[0m\n\u001b[0;32m----> 1\u001b[0m feat_importances \u001b[38;5;241m=\u001b[39m pd\u001b[38;5;241m.\u001b[39mSeries(\u001b[43mmodel\u001b[49m\u001b[38;5;241;43m.\u001b[39;49m\u001b[43mfeature_importances_\u001b[49m, index\u001b[38;5;241m=\u001b[39mwhole_df[FEATURES]\u001b[38;5;241m.\u001b[39mcolumns)\n",
      "\u001b[0;31mAttributeError\u001b[0m: 'Booster' object has no attribute 'feature_importances_'"
     ]
    }
   ],
   "source": [
    "feat_importances = pd.Series(model.feature_importances_, index=whole_df[FEATURES].columns)"
   ]
  },
  {
   "cell_type": "code",
   "execution_count": null,
   "id": "ed8a714a",
   "metadata": {},
   "outputs": [],
   "source": [
    "batches = sorted(glob.glob(f\"./candidated_features/{RUN_FOR}_{type_str}_all_data_{CANDIDATE_COUNT}candidates_p*.pqt\"))\n",
    "for batch in tqdm(batches):\n",
    "    whole_df = pd.read_parquet(batch)\n",
    "    FEATURES = whole_df.columns[2 : -1]\n",
    "    dtest = xgb.DMatrix(data=whole_df[FEATURES])\n",
    "    break"
   ]
  },
  {
   "cell_type": "code",
   "execution_count": null,
   "id": "11f8dda9",
   "metadata": {},
   "outputs": [],
   "source": [
    "model_path = sorted(glob.glob(f\"./models/XGB_{CANDIDATE_COUNT}candidates_fold*_orders.xgb\"))[0]\n",
    "model = xgb.Booster()\n",
    "model.load_model(model_path)\n",
    "\n",
    "model.predict(dtest)\n",
    "\n",
    "imp_df = pd.Series(model.get_score(importance_type='gain'))\n",
    "imp_df.nlargest(30).plot(kind='barh')"
   ]
  },
  {
   "cell_type": "code",
   "execution_count": null,
   "id": "eb6c9882",
   "metadata": {},
   "outputs": [],
   "source": [
    "model_path = sorted(glob.glob(f\"./models/XGB_{CANDIDATE_COUNT}candidates_fold*_clicks.xgb\"))[0]\n",
    "model = xgb.Booster()\n",
    "model.load_model(model_path)\n",
    "\n",
    "model.predict(dtest)\n",
    "\n",
    "imp_df = pd.Series(model.get_score(importance_type='gain'))\n",
    "imp_df.nlargest(30).plot(kind='barh')"
   ]
  },
  {
   "cell_type": "code",
   "execution_count": null,
   "id": "a47b647a",
   "metadata": {},
   "outputs": [],
   "source": [
    "model_path = sorted(glob.glob(f\"./models/XGB_{CANDIDATE_COUNT}candidates_fold*_carts.xgb\"))[0]\n",
    "model = xgb.Booster()\n",
    "model.load_model(model_path)\n",
    "\n",
    "model.predict(dtest)\n",
    "\n",
    "imp_df = pd.Series(model.get_score(importance_type='gain'))\n",
    "imp_df.nlargest(30).plot(kind='barh')"
   ]
  },
  {
   "cell_type": "code",
   "execution_count": null,
   "id": "92f4569b",
   "metadata": {},
   "outputs": [],
   "source": []
  }
 ],
 "metadata": {
  "kernelspec": {
   "display_name": "Python 3 (ipykernel)",
   "language": "python",
   "name": "python3"
  },
  "language_info": {
   "codemirror_mode": {
    "name": "ipython",
    "version": 3
   },
   "file_extension": ".py",
   "mimetype": "text/x-python",
   "name": "python",
   "nbconvert_exporter": "python",
   "pygments_lexer": "ipython3",
   "version": "3.8.13"
  },
  "papermill": {
   "default_parameters": {},
   "duration": 3695.647257,
   "end_time": "2022-11-28T19:50:53.428271",
   "environment_variables": {},
   "exception": null,
   "input_path": "__notebook__.ipynb",
   "output_path": "__notebook__.ipynb",
   "parameters": {},
   "start_time": "2022-11-28T18:49:17.781014",
   "version": "2.3.4"
  }
 },
 "nbformat": 4,
 "nbformat_minor": 5
}
