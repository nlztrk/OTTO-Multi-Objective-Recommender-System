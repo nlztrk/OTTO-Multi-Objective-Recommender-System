{
 "cells": [
  {
   "cell_type": "code",
   "execution_count": 1,
   "id": "19803c5d",
   "metadata": {
    "execution": {
     "iopub.execute_input": "2022-11-28T18:49:25.672561Z",
     "iopub.status.busy": "2022-11-28T18:49:25.671835Z",
     "iopub.status.idle": "2022-11-28T18:49:28.346781Z",
     "shell.execute_reply": "2022-11-28T18:49:28.345442Z"
    },
    "papermill": {
     "duration": 2.696152,
     "end_time": "2022-11-28T18:49:28.349900",
     "exception": false,
     "start_time": "2022-11-28T18:49:25.653748",
     "status": "completed"
    },
    "tags": []
   },
   "outputs": [
    {
     "name": "stdout",
     "output_type": "stream",
     "text": [
      "We will use RAPIDS version 22.10.00a+392.g1558403753\n",
      "INFO: Pandarallel will run on 4 workers.\n",
      "INFO: Pandarallel will use standard multiprocessing data transfer (pipe) to transfer data between the main process and workers.\n"
     ]
    }
   ],
   "source": [
    "VER = 6\n",
    "\n",
    "import pandas as pd, numpy as np\n",
    "from tqdm.notebook import tqdm\n",
    "tqdm.pandas()\n",
    "\n",
    "import os, sys, pickle, glob, gc\n",
    "from collections import Counter\n",
    "import cudf, itertools\n",
    "print('We will use RAPIDS version',cudf.__version__)\n",
    "\n",
    "pd.set_option('display.max_rows', 500)\n",
    "pd.set_option('display.max_columns', 500)\n",
    "\n",
    "from pandarallel import pandarallel\n",
    "\n",
    "pandarallel.initialize(nb_workers=4, progress_bar=True, use_memory_fs=False)\n",
    "\n",
    "import xgboost as xgb\n",
    "from sklearn.model_selection import GroupKFold\n",
    "\n",
    "from pyarrow.parquet import ParquetFile\n",
    "import pyarrow as pa "
   ]
  },
  {
   "cell_type": "markdown",
   "id": "e2505537",
   "metadata": {
    "papermill": {
     "duration": 0.020472,
     "end_time": "2022-11-28T18:57:43.433117",
     "exception": false,
     "start_time": "2022-11-28T18:57:43.412645",
     "status": "completed"
    },
    "tags": []
   },
   "source": [
    "# Training"
   ]
  },
  {
   "cell_type": "code",
   "execution_count": 2,
   "id": "e70b81b7",
   "metadata": {},
   "outputs": [],
   "source": [
    "type_labels = {'clicks':0, 'carts':1, 'orders':2}"
   ]
  },
  {
   "cell_type": "code",
   "execution_count": 3,
   "id": "ec6758ee",
   "metadata": {},
   "outputs": [],
   "source": [
    "RUN_FOR = \"kaggle\" # \"kaggle\""
   ]
  },
  {
   "cell_type": "code",
   "execution_count": 4,
   "id": "fb75eb40",
   "metadata": {
    "scrolled": false
   },
   "outputs": [
    {
     "data": {
      "application/vnd.jupyter.widget-view+json": {
       "model_id": "34106e9806e54de8ae9cffa52dda9383",
       "version_major": 2,
       "version_minor": 0
      },
      "text/plain": [
       "  0%|          | 0/3 [00:00<?, ?it/s]"
      ]
     },
     "metadata": {},
     "output_type": "display_data"
    },
    {
     "data": {
      "application/vnd.jupyter.widget-view+json": {
       "model_id": "a0e1d468a7204c0f965683c6489fd79d",
       "version_major": 2,
       "version_minor": 0
      },
      "text/plain": [
       "0it [00:00, ?it/s]"
      ]
     },
     "metadata": {},
     "output_type": "display_data"
    },
    {
     "name": "stdout",
     "output_type": "stream",
     "text": [
      "Processing 5M rows...\n",
      "Processing 5M rows...\n",
      "Processing 5M rows...\n",
      "Processing 5M rows...\n",
      "Processing 5M rows...\n",
      "Processing 5M rows...\n",
      "Processing 5M rows...\n",
      "Processing 5M rows...\n",
      "Processing 5M rows...\n",
      "Processing 5M rows...\n",
      "Processing 5M rows...\n",
      "Processing 5M rows...\n",
      "Processing 5M rows...\n",
      "Processing 5M rows...\n",
      "Processing 5M rows...\n",
      "Processing 5M rows...\n",
      "Processing 5M rows...\n"
     ]
    },
    {
     "name": "stderr",
     "output_type": "stream",
     "text": [
      "/tmp/ipykernel_264799/2789506762.py:40: UserWarning: Pandas doesn't allow columns to be created via a new attribute name - see https://pandas.pydata.org/pandas-docs/stable/indexing.html#attribute-access\n",
      "  sub.item = sub.aid.apply(lambda x: \" \".join(map(str,x)))\n"
     ]
    },
    {
     "data": {
      "application/vnd.jupyter.widget-view+json": {
       "model_id": "76cdd026b2ef41bc8319390861684979",
       "version_major": 2,
       "version_minor": 0
      },
      "text/plain": [
       "0it [00:00, ?it/s]"
      ]
     },
     "metadata": {},
     "output_type": "display_data"
    },
    {
     "name": "stdout",
     "output_type": "stream",
     "text": [
      "Processing 5M rows...\n",
      "Processing 5M rows...\n",
      "Processing 5M rows...\n",
      "Processing 5M rows...\n",
      "Processing 5M rows...\n",
      "Processing 5M rows...\n",
      "Processing 5M rows...\n",
      "Processing 5M rows...\n",
      "Processing 5M rows...\n",
      "Processing 5M rows...\n",
      "Processing 5M rows...\n",
      "Processing 5M rows...\n",
      "Processing 5M rows...\n",
      "Processing 5M rows...\n",
      "Processing 5M rows...\n",
      "Processing 5M rows...\n",
      "Processing 5M rows...\n"
     ]
    },
    {
     "name": "stderr",
     "output_type": "stream",
     "text": [
      "/tmp/ipykernel_264799/2789506762.py:40: UserWarning: Pandas doesn't allow columns to be created via a new attribute name - see https://pandas.pydata.org/pandas-docs/stable/indexing.html#attribute-access\n",
      "  sub.item = sub.aid.apply(lambda x: \" \".join(map(str,x)))\n"
     ]
    },
    {
     "data": {
      "application/vnd.jupyter.widget-view+json": {
       "model_id": "141d3beb852f483e9c72a9370ca49aa7",
       "version_major": 2,
       "version_minor": 0
      },
      "text/plain": [
       "0it [00:00, ?it/s]"
      ]
     },
     "metadata": {},
     "output_type": "display_data"
    },
    {
     "name": "stdout",
     "output_type": "stream",
     "text": [
      "Processing 5M rows...\n",
      "Processing 5M rows...\n",
      "Processing 5M rows...\n",
      "Processing 5M rows...\n",
      "Processing 5M rows...\n",
      "Processing 5M rows...\n",
      "Processing 5M rows...\n",
      "Processing 5M rows...\n",
      "Processing 5M rows...\n",
      "Processing 5M rows...\n",
      "Processing 5M rows...\n",
      "Processing 5M rows...\n",
      "Processing 5M rows...\n",
      "Processing 5M rows...\n",
      "Processing 5M rows...\n",
      "Processing 5M rows...\n",
      "Processing 5M rows...\n"
     ]
    },
    {
     "name": "stderr",
     "output_type": "stream",
     "text": [
      "/tmp/ipykernel_264799/2789506762.py:40: UserWarning: Pandas doesn't allow columns to be created via a new attribute name - see https://pandas.pydata.org/pandas-docs/stable/indexing.html#attribute-access\n",
      "  sub.item = sub.aid.apply(lambda x: \" \".join(map(str,x)))\n"
     ]
    }
   ],
   "source": [
    "subs = []\n",
    "\n",
    "for type_str in tqdm(list(type_labels.keys())):\n",
    "    \n",
    "    pf = ParquetFile(f\"./candidated_features/{RUN_FOR}_{type_str}_all_data.pqt\") \n",
    "    model_paths = sorted(glob.glob(f\"./models/XGB_*candidates_fold*_{type_str}.xgb\"))\n",
    "\n",
    "    all_predictions = []\n",
    "    \n",
    "    for batch in tqdm(pf.iter_batches(batch_size = 5_000_000)):\n",
    "        print(\"Processing 5M rows...\")\n",
    "        whole_df = batch.to_pandas() \n",
    "        FEATURES = whole_df.columns[2 : -1]\n",
    "        dtest = xgb.DMatrix(data=whole_df[FEATURES])\n",
    "\n",
    "        preds = np.zeros(len(whole_df))\n",
    "        \n",
    "        for model_path in model_paths:\n",
    "#             target_it = int(model_path.split(\"_it\")[-1].split(\".xgb\")[0])\n",
    "            model = xgb.Booster()\n",
    "            model.load_model(model_path)\n",
    "            model.set_param({'predictor': 'gpu_predictor'})\n",
    "            preds += model.predict(dtest)/len(model_paths)\n",
    "#                                    iteration_range=(0, target_it + 1)\n",
    "#                                   )/len(model_paths)\n",
    "        \n",
    "        predictions = whole_df[['session','aid']].copy()\n",
    "        predictions['pred'] = preds\n",
    "        all_predictions.append(predictions)\n",
    "        \n",
    "    all_predictions = pd.concat(all_predictions, ignore_index=True)\n",
    "    \n",
    "    all_predictions = all_predictions.sort_values(['session','pred'],\n",
    "                                                  ascending=[True,False]).reset_index(drop=True)\n",
    "    all_predictions['n'] = all_predictions.groupby('session').aid.cumcount().astype('int8')\n",
    "    all_predictions = all_predictions.loc[all_predictions.n<20]\n",
    "\n",
    "    sub = all_predictions.groupby('session').aid.apply(list)\n",
    "    sub = sub.to_frame().reset_index()\n",
    "    sub.item = sub.aid.apply(lambda x: \" \".join(map(str,x)))\n",
    "    sub.columns = ['session_type','labels']\n",
    "    sub.session_type = sub.session_type.astype('str') + '_' + type_str\n",
    "\n",
    "    subs.append(sub)"
   ]
  },
  {
   "cell_type": "markdown",
   "id": "988d59c2",
   "metadata": {},
   "source": [
    "## Local Score"
   ]
  },
  {
   "cell_type": "code",
   "execution_count": 5,
   "id": "09b4d352",
   "metadata": {},
   "outputs": [],
   "source": [
    "final_sub = pd.concat(subs, ignore_index=True)\n",
    "final_sub.sort_values(by=\"session_type\", ascending=True).reset_index(drop=True)\n",
    "\n",
    "if RUN_FOR == \"local\":\n",
    "    # COMPUTE METRIC\n",
    "    score = 0\n",
    "    weights = {'clicks': 0.10, 'carts': 0.30, 'orders': 0.60}\n",
    "    for t in ['clicks','carts','orders']:\n",
    "        sub = final_sub.loc[final_sub.session_type.str.contains(t)].copy()\n",
    "        sub['session'] = sub.session_type.apply(lambda x: int(x.split('_')[0]))\n",
    "    #     sub.labels = sub.labels.apply(lambda x: [int(i) for i in x.split(' ')[:20]])\n",
    "        test_labels = pd.read_parquet('./splitted_raw_data/val_labels.parquet')\n",
    "        test_labels = test_labels.loc[test_labels['type']==t]\n",
    "        test_labels = test_labels.merge(sub, how='left', on=['session'])\n",
    "        test_labels['hits'] = test_labels.apply(lambda df: len(set(df.ground_truth).intersection(set(df.labels))), axis=1)\n",
    "        test_labels['gt_count'] = test_labels.ground_truth.str.len().clip(0,20)\n",
    "        recall = test_labels['hits'].sum() / test_labels['gt_count'].sum()\n",
    "        score += weights[t]*recall\n",
    "        print(f'{t} recall =',recall)\n",
    "\n",
    "    print('=============')\n",
    "    print('Overall Recall =',score)\n",
    "    print('=============')\n",
    "\n",
    "elif RUN_FOR == \"kaggle\":\n",
    "    final_sub[\"labels\"] = final_sub.labels.apply(lambda x: \" \".join([str(elm) for elm in x]))\n",
    "#     final_sub.to_csv(\"submission.csv\", index=False)\n",
    "    final_sub.to_csv(\"submission.csv.gz\", index=False, compression='gzip')"
   ]
  },
  {
   "cell_type": "code",
   "execution_count": 6,
   "id": "152fd19a",
   "metadata": {},
   "outputs": [
    {
     "data": {
      "text/html": [
       "<div>\n",
       "<style scoped>\n",
       "    .dataframe tbody tr th:only-of-type {\n",
       "        vertical-align: middle;\n",
       "    }\n",
       "\n",
       "    .dataframe tbody tr th {\n",
       "        vertical-align: top;\n",
       "    }\n",
       "\n",
       "    .dataframe thead th {\n",
       "        text-align: right;\n",
       "    }\n",
       "</style>\n",
       "<table border=\"1\" class=\"dataframe\">\n",
       "  <thead>\n",
       "    <tr style=\"text-align: right;\">\n",
       "      <th></th>\n",
       "      <th>session_type</th>\n",
       "      <th>labels</th>\n",
       "    </tr>\n",
       "  </thead>\n",
       "  <tbody>\n",
       "    <tr>\n",
       "      <th>0</th>\n",
       "      <td>12899779_clicks</td>\n",
       "      <td>59625 1253524 737445 731692 1790770 1660529 43...</td>\n",
       "    </tr>\n",
       "    <tr>\n",
       "      <th>1</th>\n",
       "      <td>12899780_clicks</td>\n",
       "      <td>1142000 736515 973453 582732 1502122 889686 14...</td>\n",
       "    </tr>\n",
       "    <tr>\n",
       "      <th>2</th>\n",
       "      <td>12899781_clicks</td>\n",
       "      <td>199008 918667 194067 141736 57315 1583317 1460...</td>\n",
       "    </tr>\n",
       "    <tr>\n",
       "      <th>3</th>\n",
       "      <td>12899782_clicks</td>\n",
       "      <td>595994 1007613 834354 740494 1669402 829180 98...</td>\n",
       "    </tr>\n",
       "    <tr>\n",
       "      <th>4</th>\n",
       "      <td>12899783_clicks</td>\n",
       "      <td>1817895 607638 1754419 300127 1216820 255297 1...</td>\n",
       "    </tr>\n",
       "    <tr>\n",
       "      <th>...</th>\n",
       "      <td>...</td>\n",
       "      <td>...</td>\n",
       "    </tr>\n",
       "    <tr>\n",
       "      <th>5015404</th>\n",
       "      <td>14571577_orders</td>\n",
       "      <td>1141710 1276792 86916 1004292 631085 1666114 7...</td>\n",
       "    </tr>\n",
       "    <tr>\n",
       "      <th>5015405</th>\n",
       "      <td>14571578_orders</td>\n",
       "      <td>519105 815460 664851 822641 1811714 290137 524...</td>\n",
       "    </tr>\n",
       "    <tr>\n",
       "      <th>5015406</th>\n",
       "      <td>14571579_orders</td>\n",
       "      <td>739876 1750859 785544 51363 832213 876416 8579...</td>\n",
       "    </tr>\n",
       "    <tr>\n",
       "      <th>5015407</th>\n",
       "      <td>14571580_orders</td>\n",
       "      <td>202353 433425 1314576 1231403 891417 387358 33...</td>\n",
       "    </tr>\n",
       "    <tr>\n",
       "      <th>5015408</th>\n",
       "      <td>14571581_orders</td>\n",
       "      <td>1100210 1684953 1401429 1072049 622489 1571699...</td>\n",
       "    </tr>\n",
       "  </tbody>\n",
       "</table>\n",
       "<p>5015409 rows × 2 columns</p>\n",
       "</div>"
      ],
      "text/plain": [
       "            session_type                                             labels\n",
       "0        12899779_clicks  59625 1253524 737445 731692 1790770 1660529 43...\n",
       "1        12899780_clicks  1142000 736515 973453 582732 1502122 889686 14...\n",
       "2        12899781_clicks  199008 918667 194067 141736 57315 1583317 1460...\n",
       "3        12899782_clicks  595994 1007613 834354 740494 1669402 829180 98...\n",
       "4        12899783_clicks  1817895 607638 1754419 300127 1216820 255297 1...\n",
       "...                  ...                                                ...\n",
       "5015404  14571577_orders  1141710 1276792 86916 1004292 631085 1666114 7...\n",
       "5015405  14571578_orders  519105 815460 664851 822641 1811714 290137 524...\n",
       "5015406  14571579_orders  739876 1750859 785544 51363 832213 876416 8579...\n",
       "5015407  14571580_orders  202353 433425 1314576 1231403 891417 387358 33...\n",
       "5015408  14571581_orders  1100210 1684953 1401429 1072049 622489 1571699...\n",
       "\n",
       "[5015409 rows x 2 columns]"
      ]
     },
     "execution_count": 6,
     "metadata": {},
     "output_type": "execute_result"
    }
   ],
   "source": [
    "final_sub"
   ]
  },
  {
   "cell_type": "code",
   "execution_count": 7,
   "id": "8af68b8d",
   "metadata": {},
   "outputs": [],
   "source": []
  },
  {
   "cell_type": "code",
   "execution_count": null,
   "id": "f984863e",
   "metadata": {},
   "outputs": [],
   "source": []
  }
 ],
 "metadata": {
  "kernelspec": {
   "display_name": "Python 3 (ipykernel)",
   "language": "python",
   "name": "python3"
  },
  "language_info": {
   "codemirror_mode": {
    "name": "ipython",
    "version": 3
   },
   "file_extension": ".py",
   "mimetype": "text/x-python",
   "name": "python",
   "nbconvert_exporter": "python",
   "pygments_lexer": "ipython3",
   "version": "3.8.13"
  },
  "papermill": {
   "default_parameters": {},
   "duration": 3695.647257,
   "end_time": "2022-11-28T19:50:53.428271",
   "environment_variables": {},
   "exception": null,
   "input_path": "__notebook__.ipynb",
   "output_path": "__notebook__.ipynb",
   "parameters": {},
   "start_time": "2022-11-28T18:49:17.781014",
   "version": "2.3.4"
  }
 },
 "nbformat": 4,
 "nbformat_minor": 5
}
