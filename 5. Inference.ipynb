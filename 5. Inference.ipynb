{
 "cells": [
  {
   "cell_type": "code",
   "execution_count": 1,
   "id": "19803c5d",
   "metadata": {
    "execution": {
     "iopub.execute_input": "2022-11-28T18:49:25.672561Z",
     "iopub.status.busy": "2022-11-28T18:49:25.671835Z",
     "iopub.status.idle": "2022-11-28T18:49:28.346781Z",
     "shell.execute_reply": "2022-11-28T18:49:28.345442Z"
    },
    "papermill": {
     "duration": 2.696152,
     "end_time": "2022-11-28T18:49:28.349900",
     "exception": false,
     "start_time": "2022-11-28T18:49:25.653748",
     "status": "completed"
    },
    "scrolled": true,
    "tags": []
   },
   "outputs": [
    {
     "name": "stdout",
     "output_type": "stream",
     "text": [
      "We will use RAPIDS version 22.10.00a+392.g1558403753\n",
      "INFO: Pandarallel will run on 4 workers.\n",
      "INFO: Pandarallel will use standard multiprocessing data transfer (pipe) to transfer data between the main process and workers.\n"
     ]
    }
   ],
   "source": [
    "VER = 6\n",
    "\n",
    "import pandas as pd, numpy as np\n",
    "from tqdm.notebook import tqdm\n",
    "tqdm.pandas()\n",
    "\n",
    "import os, sys, pickle, glob, gc\n",
    "from collections import Counter\n",
    "import cudf, itertools\n",
    "print('We will use RAPIDS version',cudf.__version__)\n",
    "\n",
    "pd.set_option('display.max_rows', 500)\n",
    "pd.set_option('display.max_columns', 500)\n",
    "\n",
    "from pandarallel import pandarallel\n",
    "\n",
    "pandarallel.initialize(nb_workers=4, progress_bar=True, use_memory_fs=False)\n",
    "\n",
    "import xgboost as xgb\n",
    "from sklearn.model_selection import GroupKFold\n",
    "\n",
    "from pyarrow.parquet import ParquetFile\n",
    "import pyarrow as pa \n",
    "\n",
    "from catboost import CatBoostRanker, Pool"
   ]
  },
  {
   "cell_type": "markdown",
   "id": "e2505537",
   "metadata": {
    "papermill": {
     "duration": 0.020472,
     "end_time": "2022-11-28T18:57:43.433117",
     "exception": false,
     "start_time": "2022-11-28T18:57:43.412645",
     "status": "completed"
    },
    "tags": []
   },
   "source": [
    "# Training"
   ]
  },
  {
   "cell_type": "code",
   "execution_count": 2,
   "id": "e70b81b7",
   "metadata": {},
   "outputs": [],
   "source": [
    "type_labels = {'clicks':0, 'carts':1, 'orders':2}"
   ]
  },
  {
   "cell_type": "code",
   "execution_count": 3,
   "id": "67b29238",
   "metadata": {},
   "outputs": [],
   "source": [
    "CANDIDATE_COUNT = 100"
   ]
  },
  {
   "cell_type": "code",
   "execution_count": 4,
   "id": "ec6758ee",
   "metadata": {},
   "outputs": [],
   "source": [
    "RUN_FOR = \"local\" # \"kaggle\""
   ]
  },
  {
   "cell_type": "code",
   "execution_count": 5,
   "id": "2874c301",
   "metadata": {},
   "outputs": [],
   "source": [
    "train_sessions = np.load(\"./splitted_raw_data/val_sessions_for_train.npy\", allow_pickle=True)"
   ]
  },
  {
   "cell_type": "code",
   "execution_count": 6,
   "id": "fb75eb40",
   "metadata": {
    "scrolled": true
   },
   "outputs": [
    {
     "data": {
      "application/vnd.jupyter.widget-view+json": {
       "model_id": "e614d7982dab46069cacdf141d814782",
       "version_major": 2,
       "version_minor": 0
      },
      "text/plain": [
       "  0%|          | 0/3 [00:00<?, ?it/s]"
      ]
     },
     "metadata": {},
     "output_type": "display_data"
    },
    {
     "data": {
      "application/vnd.jupyter.widget-view+json": {
       "model_id": "b99bb88ee03644dcbc09a75691932f48",
       "version_major": 2,
       "version_minor": 0
      },
      "text/plain": [
       "  0%|          | 0/19 [00:00<?, ?it/s]"
      ]
     },
     "metadata": {},
     "output_type": "display_data"
    },
    {
     "name": "stdout",
     "output_type": "stream",
     "text": [
      "Processing 6069400 rows...\n",
      "Processing 6062200 rows...\n",
      "Processing 6050500 rows...\n",
      "Processing 6065900 rows...\n",
      "Processing 6077600 rows...\n",
      "Processing 6071600 rows...\n",
      "Processing 6081400 rows...\n",
      "Processing 6046100 rows...\n",
      "Processing 6048500 rows...\n",
      "Processing 6067400 rows...\n",
      "Processing 77400 rows...\n",
      "Processing 6079900 rows...\n",
      "Processing 6081100 rows...\n",
      "Processing 6088300 rows...\n",
      "Processing 6068800 rows...\n",
      "Processing 6062400 rows...\n",
      "Processing 6071500 rows...\n",
      "Processing 6053200 rows...\n",
      "Processing 6055300 rows...\n"
     ]
    },
    {
     "name": "stderr",
     "output_type": "stream",
     "text": [
      "/tmp/ipykernel_776484/2417223045.py:51: UserWarning: Pandas doesn't allow columns to be created via a new attribute name - see https://pandas.pydata.org/pandas-docs/stable/indexing.html#attribute-access\n",
      "  sub.item = sub.aid.apply(lambda x: \" \".join(map(str,x)))\n"
     ]
    },
    {
     "data": {
      "application/vnd.jupyter.widget-view+json": {
       "model_id": "676e670ed0674f69a1667f78e2ad49f0",
       "version_major": 2,
       "version_minor": 0
      },
      "text/plain": [
       "  0%|          | 0/19 [00:00<?, ?it/s]"
      ]
     },
     "metadata": {},
     "output_type": "display_data"
    },
    {
     "name": "stdout",
     "output_type": "stream",
     "text": [
      "Processing 6069400 rows...\n",
      "Processing 6062200 rows...\n",
      "Processing 6050500 rows...\n",
      "Processing 6065900 rows...\n",
      "Processing 6077600 rows...\n",
      "Processing 6071600 rows...\n",
      "Processing 6081400 rows...\n",
      "Processing 6046100 rows...\n",
      "Processing 6048500 rows...\n",
      "Processing 6067400 rows...\n",
      "Processing 77400 rows...\n",
      "Processing 6079900 rows...\n",
      "Processing 6081100 rows...\n",
      "Processing 6088300 rows...\n",
      "Processing 6068800 rows...\n",
      "Processing 6062400 rows...\n",
      "Processing 6071500 rows...\n",
      "Processing 6053200 rows...\n",
      "Processing 6055300 rows...\n"
     ]
    },
    {
     "name": "stderr",
     "output_type": "stream",
     "text": [
      "/tmp/ipykernel_776484/2417223045.py:51: UserWarning: Pandas doesn't allow columns to be created via a new attribute name - see https://pandas.pydata.org/pandas-docs/stable/indexing.html#attribute-access\n",
      "  sub.item = sub.aid.apply(lambda x: \" \".join(map(str,x)))\n"
     ]
    },
    {
     "data": {
      "application/vnd.jupyter.widget-view+json": {
       "model_id": "724661f2177243fdb8956349ba8bfb77",
       "version_major": 2,
       "version_minor": 0
      },
      "text/plain": [
       "  0%|          | 0/19 [00:00<?, ?it/s]"
      ]
     },
     "metadata": {},
     "output_type": "display_data"
    },
    {
     "name": "stdout",
     "output_type": "stream",
     "text": [
      "Processing 6069400 rows...\n",
      "Processing 6062200 rows...\n",
      "Processing 6050500 rows...\n",
      "Processing 6065900 rows...\n",
      "Processing 6077600 rows...\n",
      "Processing 6071600 rows...\n",
      "Processing 6081400 rows...\n",
      "Processing 6046100 rows...\n",
      "Processing 6048500 rows...\n",
      "Processing 6067400 rows...\n",
      "Processing 77400 rows...\n",
      "Processing 6079900 rows...\n",
      "Processing 6081100 rows...\n",
      "Processing 6088300 rows...\n",
      "Processing 6068800 rows...\n",
      "Processing 6062400 rows...\n",
      "Processing 6071500 rows...\n",
      "Processing 6053200 rows...\n",
      "Processing 6055300 rows...\n"
     ]
    },
    {
     "name": "stderr",
     "output_type": "stream",
     "text": [
      "/tmp/ipykernel_776484/2417223045.py:51: UserWarning: Pandas doesn't allow columns to be created via a new attribute name - see https://pandas.pydata.org/pandas-docs/stable/indexing.html#attribute-access\n",
      "  sub.item = sub.aid.apply(lambda x: \" \".join(map(str,x)))\n"
     ]
    }
   ],
   "source": [
    "subs = []\n",
    "\n",
    "for type_str in tqdm(list(type_labels.keys())):\n",
    "        \n",
    "    batches = sorted(glob.glob(f\"./candidated_features/{RUN_FOR}_{type_str}_all_data_{CANDIDATE_COUNT}candidates_p*.pqt\"))\n",
    "\n",
    "    model_paths = sorted(glob.glob(f\"./models/XGB_{CANDIDATE_COUNT}candidates_fold*_{type_str}.xgb\"))\n",
    "#     model_paths = sorted(glob.glob(f\"./models/CB_{CANDIDATE_COUNT}candidates_fold*_{type_str}.cb\"))\n",
    "\n",
    "    all_predictions = []\n",
    "    \n",
    "    for batch in tqdm(batches):\n",
    "        whole_df = pd.read_parquet(batch)#.drop(labels=[\"candidate_rank\"], axis=1)\n",
    "        \n",
    "        if RUN_FOR == \"local\":\n",
    "            whole_df = whole_df[~whole_df.session.isin(train_sessions)].reset_index(drop=True)\n",
    "\n",
    "        print(f\"Processing {len(whole_df)} rows...\")\n",
    "        FEATURES = whole_df.columns[2 : -1]\n",
    "        dtest = xgb.DMatrix(data=whole_df[FEATURES])\n",
    "#         dtest = Pool(\n",
    "#             data=whole_df[FEATURES]\n",
    "#         )\n",
    "        \n",
    "        preds = np.zeros(len(whole_df))\n",
    "        \n",
    "        for model_path in model_paths:\n",
    "#             target_it = int(model_path.split(\"_it\")[-1].split(\".xgb\")[0])\n",
    "#             model = CatBoostRanker()\n",
    "#             model.load_model(model_path)\n",
    "        \n",
    "            model = xgb.Booster()\n",
    "            model.load_model(model_path)\n",
    "            model.set_param({'predictor': 'gpu_predictor'})\n",
    "            \n",
    "            preds += model.predict(dtest)/len(model_paths)\n",
    "        \n",
    "        predictions = whole_df[['session','aid']].copy()\n",
    "        predictions['pred'] = preds\n",
    "        all_predictions.append(predictions)\n",
    "        \n",
    "    all_predictions = pd.concat(all_predictions, ignore_index=True)\n",
    "    \n",
    "    all_predictions = all_predictions.sort_values(['session','pred'],\n",
    "                                                  ascending=[True,False]).reset_index(drop=True)\n",
    "    all_predictions['n'] = all_predictions.groupby('session').aid.cumcount().astype('int8')\n",
    "    all_predictions = all_predictions.loc[all_predictions.n<20]\n",
    "\n",
    "    sub = all_predictions.groupby('session').aid.apply(list)\n",
    "    sub = sub.to_frame().reset_index()\n",
    "    sub.item = sub.aid.apply(lambda x: \" \".join(map(str,x)))\n",
    "    sub.columns = ['session_type','labels']\n",
    "    sub.session_type = sub.session_type.astype('str') + '_' + type_str\n",
    "\n",
    "    subs.append(sub)"
   ]
  },
  {
   "cell_type": "markdown",
   "id": "988d59c2",
   "metadata": {},
   "source": [
    "## Local Score"
   ]
  },
  {
   "cell_type": "code",
   "execution_count": 7,
   "id": "09b4d352",
   "metadata": {},
   "outputs": [
    {
     "name": "stdout",
     "output_type": "stream",
     "text": [
      "clicks recall = 0.5327735558171982\n",
      "carts recall = 0.42333887304524925\n",
      "orders recall = 0.6599005864871262\n",
      "=============\n",
      "Overall Recall = 0.5762193693875703\n",
      "=============\n"
     ]
    }
   ],
   "source": [
    "final_sub = pd.concat(subs, ignore_index=True)\n",
    "final_sub.sort_values(by=\"session_type\", ascending=True).reset_index(drop=True)\n",
    "\n",
    "if RUN_FOR == \"local\":\n",
    "    # COMPUTE METRIC\n",
    "    score = 0\n",
    "    weights = {'clicks': 0.10, 'carts': 0.30, 'orders': 0.60}\n",
    "    for t in ['clicks','carts','orders']:\n",
    "        sub = final_sub.loc[final_sub.session_type.str.contains(t)].copy()\n",
    "        sub['session'] = sub.session_type.apply(lambda x: int(x.split('_')[0]))\n",
    "    #     sub.labels = sub.labels.apply(lambda x: [int(i) for i in x.split(' ')[:20]])\n",
    "        test_labels = pd.read_parquet('./splitted_raw_data/val_labels.parquet')\n",
    "        test_labels = test_labels[~test_labels.session.isin(train_sessions)].reset_index(drop=True)\n",
    "        test_labels = test_labels.loc[test_labels['type']==t]\n",
    "        test_labels = test_labels.merge(sub, how='left', on=['session'])\n",
    "        test_labels['hits'] = test_labels.apply(lambda df: len(set(df.ground_truth).intersection(set(df.labels))), axis=1)\n",
    "        test_labels['gt_count'] = test_labels.ground_truth.str.len().clip(0,20)\n",
    "        recall = test_labels['hits'].sum() / test_labels['gt_count'].sum()\n",
    "        score += weights[t]*recall\n",
    "        print(f'{t} recall =',recall)\n",
    "\n",
    "    print('=============')\n",
    "    print('Overall Recall =',score)\n",
    "    print('=============')\n",
    "\n",
    "elif RUN_FOR == \"kaggle\":\n",
    "    final_sub[\"labels\"] = final_sub.labels.apply(lambda x: \" \".join([str(elm) for elm in x]))\n",
    "#     final_sub.to_csv(\"submission.csv\", index=False)\n",
    "    final_sub.to_csv(\"submission.csv.gz\", index=False, compression='gzip')"
   ]
  },
  {
   "cell_type": "code",
   "execution_count": 8,
   "id": "152fd19a",
   "metadata": {},
   "outputs": [
    {
     "data": {
      "text/html": [
       "<div>\n",
       "<style scoped>\n",
       "    .dataframe tbody tr th:only-of-type {\n",
       "        vertical-align: middle;\n",
       "    }\n",
       "\n",
       "    .dataframe tbody tr th {\n",
       "        vertical-align: top;\n",
       "    }\n",
       "\n",
       "    .dataframe thead th {\n",
       "        text-align: right;\n",
       "    }\n",
       "</style>\n",
       "<table border=\"1\" class=\"dataframe\">\n",
       "  <thead>\n",
       "    <tr style=\"text-align: right;\">\n",
       "      <th></th>\n",
       "      <th>session_type</th>\n",
       "      <th>labels</th>\n",
       "    </tr>\n",
       "  </thead>\n",
       "  <tbody>\n",
       "    <tr>\n",
       "      <th>0</th>\n",
       "      <td>11098528_clicks</td>\n",
       "      <td>[11830, 588923, 1732105, 571762, 876129, 88450...</td>\n",
       "    </tr>\n",
       "    <tr>\n",
       "      <th>1</th>\n",
       "      <td>11098529_clicks</td>\n",
       "      <td>[1105029, 459126, 217742, 1339838, 1694360, 15...</td>\n",
       "    </tr>\n",
       "    <tr>\n",
       "      <th>2</th>\n",
       "      <td>11098530_clicks</td>\n",
       "      <td>[409236, 264500, 963957, 1603001, 583026, 2541...</td>\n",
       "    </tr>\n",
       "    <tr>\n",
       "      <th>3</th>\n",
       "      <td>11098533_clicks</td>\n",
       "      <td>[1074173, 1165015, 385390, 1309900, 978918, 76...</td>\n",
       "    </tr>\n",
       "    <tr>\n",
       "      <th>4</th>\n",
       "      <td>11098534_clicks</td>\n",
       "      <td>[223062, 908024, 1342293, 1607945, 1039538, 12...</td>\n",
       "    </tr>\n",
       "    <tr>\n",
       "      <th>...</th>\n",
       "      <td>...</td>\n",
       "      <td>...</td>\n",
       "    </tr>\n",
       "    <tr>\n",
       "      <th>3278350</th>\n",
       "      <td>12899770_orders</td>\n",
       "      <td>[277173, 480578, 746786, 1602968, 1457452, 143...</td>\n",
       "    </tr>\n",
       "    <tr>\n",
       "      <th>3278351</th>\n",
       "      <td>12899772_orders</td>\n",
       "      <td>[1062165, 1234522, 878643, 346692, 1339305, 51...</td>\n",
       "    </tr>\n",
       "    <tr>\n",
       "      <th>3278352</th>\n",
       "      <td>12899773_orders</td>\n",
       "      <td>[1311526, 1484665, 37930, 337571, 104552, 1255...</td>\n",
       "    </tr>\n",
       "    <tr>\n",
       "      <th>3278353</th>\n",
       "      <td>12899774_orders</td>\n",
       "      <td>[33035, 1584669, 255895, 819288, 1089446, 8517...</td>\n",
       "    </tr>\n",
       "    <tr>\n",
       "      <th>3278354</th>\n",
       "      <td>12899775_orders</td>\n",
       "      <td>[1743151, 1760714, 1255910, 155954, 1498443, 1...</td>\n",
       "    </tr>\n",
       "  </tbody>\n",
       "</table>\n",
       "<p>3278355 rows × 2 columns</p>\n",
       "</div>"
      ],
      "text/plain": [
       "            session_type                                             labels\n",
       "0        11098528_clicks  [11830, 588923, 1732105, 571762, 876129, 88450...\n",
       "1        11098529_clicks  [1105029, 459126, 217742, 1339838, 1694360, 15...\n",
       "2        11098530_clicks  [409236, 264500, 963957, 1603001, 583026, 2541...\n",
       "3        11098533_clicks  [1074173, 1165015, 385390, 1309900, 978918, 76...\n",
       "4        11098534_clicks  [223062, 908024, 1342293, 1607945, 1039538, 12...\n",
       "...                  ...                                                ...\n",
       "3278350  12899770_orders  [277173, 480578, 746786, 1602968, 1457452, 143...\n",
       "3278351  12899772_orders  [1062165, 1234522, 878643, 346692, 1339305, 51...\n",
       "3278352  12899773_orders  [1311526, 1484665, 37930, 337571, 104552, 1255...\n",
       "3278353  12899774_orders  [33035, 1584669, 255895, 819288, 1089446, 8517...\n",
       "3278354  12899775_orders  [1743151, 1760714, 1255910, 155954, 1498443, 1...\n",
       "\n",
       "[3278355 rows x 2 columns]"
      ]
     },
     "execution_count": 8,
     "metadata": {},
     "output_type": "execute_result"
    }
   ],
   "source": [
    "final_sub"
   ]
  },
  {
   "cell_type": "code",
   "execution_count": null,
   "id": "3c47fff9",
   "metadata": {},
   "outputs": [],
   "source": []
  }
 ],
 "metadata": {
  "kernelspec": {
   "display_name": "Python 3 (ipykernel)",
   "language": "python",
   "name": "python3"
  },
  "language_info": {
   "codemirror_mode": {
    "name": "ipython",
    "version": 3
   },
   "file_extension": ".py",
   "mimetype": "text/x-python",
   "name": "python",
   "nbconvert_exporter": "python",
   "pygments_lexer": "ipython3",
   "version": "3.8.13"
  },
  "papermill": {
   "default_parameters": {},
   "duration": 3695.647257,
   "end_time": "2022-11-28T19:50:53.428271",
   "environment_variables": {},
   "exception": null,
   "input_path": "__notebook__.ipynb",
   "output_path": "__notebook__.ipynb",
   "parameters": {},
   "start_time": "2022-11-28T18:49:17.781014",
   "version": "2.3.4"
  }
 },
 "nbformat": 4,
 "nbformat_minor": 5
}
