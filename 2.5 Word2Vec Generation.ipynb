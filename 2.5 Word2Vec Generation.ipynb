{
 "cells": [
  {
   "cell_type": "code",
   "execution_count": 1,
   "metadata": {},
   "outputs": [
    {
     "name": "stdout",
     "output_type": "stream",
     "text": [
      "INFO: Pandarallel will run on 8 workers.\n",
      "INFO: Pandarallel will use standard multiprocessing data transfer (pipe) to transfer data between the main process and workers.\n"
     ]
    },
    {
     "name": "stderr",
     "output_type": "stream",
     "text": [
      "/tmp/ipykernel_256978/4026865164.py:8: TqdmExperimentalWarning: Using `tqdm.autonotebook.tqdm` in notebook mode. Use `tqdm.tqdm` instead to force console mode (e.g. in jupyter console)\n",
      "  from tqdm.autonotebook import tqdm\n"
     ]
    }
   ],
   "source": [
    "import polars as pl\n",
    "from gensim.test.utils import common_texts\n",
    "from gensim.models import Word2Vec\n",
    "from gensim.models import KeyedVectors\n",
    "from annoy import AnnoyIndex\n",
    "import pandas as pd\n",
    "import numpy as np\n",
    "from tqdm.autonotebook import tqdm\n",
    "tqdm.pandas()\n",
    "import gc\n",
    "from pandarallel import pandarallel\n",
    "pandarallel.initialize(progress_bar=True, use_memory_fs=False)\n",
    "#Config\n",
    "GENERATE_FOR = \"kaggle\"\n",
    "TRAIN = True # set True if you want to train the w2vec model from scratch\n",
    "VECTOR_SIZE = 32\n",
    "CANDIDATES = 100\n",
    "DISK_PIECES = 4\n",
    "VER = 6"
   ]
  },
  {
   "cell_type": "code",
   "execution_count": null,
   "metadata": {},
   "outputs": [],
   "source": [
    "if GENERATE_FOR == \"local\":\n",
    "    train_df = pl.concat([pl.read_parquet(\"./splitted_raw_data/train.parquet\"),pl.read_parquet(\"./splitted_raw_data/val.parquet\")])\n",
    "if GENERATE_FOR == \"kaggle\":\n",
    "    train_df = pl.concat([pl.read_parquet('./splitted_raw_data/all_train.parquet'),pl.read_parquet(\"./splitted_raw_data/test.parquet\")])"
   ]
  },
  {
   "cell_type": "code",
   "execution_count": 2,
   "metadata": {
    "scrolled": true
   },
   "outputs": [
    {
     "data": {
      "text/plain": [
       "(223644219, 4)"
      ]
     },
     "execution_count": 2,
     "metadata": {},
     "output_type": "execute_result"
    }
   ],
   "source": [
    "train_df.shape"
   ]
  },
  {
   "cell_type": "markdown",
   "metadata": {},
   "source": [
    "Let us now transform the data into a format that the `gensim` library can work with. Thanks to `polars` we can do so very efficiently and very quickly.\n",
    "\n",
    "There are various ways we could feed our data to our model, however doing so straight from RAM in the form of Python lists is probably one of the fastest! As we have enough resources on Kaggle to do so, let us take this approach!"
   ]
  },
  {
   "cell_type": "code",
   "execution_count": 3,
   "metadata": {
    "execution": {
     "iopub.execute_input": "2023-01-06T20:28:28.087746Z",
     "iopub.status.busy": "2023-01-06T20:28:28.087379Z",
     "iopub.status.idle": "2023-01-06T20:51:27.895542Z",
     "shell.execute_reply": "2023-01-06T20:51:27.894453Z",
     "shell.execute_reply.started": "2023-01-06T20:28:28.087714Z"
    }
   },
   "outputs": [
    {
     "name": "stdout",
     "output_type": "stream",
     "text": [
      "Word2Vec training started...\n",
      "Word2Vec training, done.\n"
     ]
    }
   ],
   "source": [
    "#word2vec train eden yer burası\n",
    "if TRAIN:\n",
    "    sentences_df = train_df.groupby('session').agg(pl.col('aid').alias('sentence'))\n",
    "    sentences = sentences_df['sentence'].to_list()\n",
    "    del sentences_df; gc.collect()\n",
    "    print('Word2Vec training started...')\n",
    "    w2vec = Word2Vec(sentences=sentences, vector_size=VECTOR_SIZE, min_count=1,window=20, workers=-1) # workers: kaggle nb'de çalıştırcaksan workers ayarla\n",
    "    print('Word2Vec training, done.')\n",
    "    wv = w2vec.wv\n",
    "    wv.save(f\"./models/word2vec_{GENERATE_FOR}.wordvectors\")"
   ]
  },
  {
   "cell_type": "code",
   "execution_count": 4,
   "metadata": {
    "execution": {
     "iopub.execute_input": "2023-01-06T20:51:35.862482Z",
     "iopub.status.busy": "2023-01-06T20:51:35.862148Z",
     "iopub.status.idle": "2023-01-06T20:51:35.872009Z",
     "shell.execute_reply": "2023-01-06T20:51:35.870682Z",
     "shell.execute_reply.started": "2023-01-06T20:51:35.862450Z"
    }
   },
   "outputs": [
    {
     "data": {
      "text/plain": [
       "1855603"
      ]
     },
     "execution_count": 4,
     "metadata": {},
     "output_type": "execute_result"
    }
   ],
   "source": [
    "aids = train_df.select(pl.col('aid').unique())['aid'].to_list()\n",
    "len(aids)"
   ]
  },
  {
   "cell_type": "code",
   "execution_count": 5,
   "metadata": {
    "execution": {
     "iopub.execute_input": "2023-01-06T20:53:47.785988Z",
     "iopub.status.busy": "2023-01-06T20:53:47.785565Z",
     "iopub.status.idle": "2023-01-06T20:53:47.791712Z",
     "shell.execute_reply": "2023-01-06T20:53:47.790380Z",
     "shell.execute_reply.started": "2023-01-06T20:53:47.785953Z"
    }
   },
   "outputs": [],
   "source": [
    "if TRAIN == False:\n",
    "    wv = KeyedVectors.load(f\"./models/word2vec_{GENERATE_FOR}.wordvectors\", mmap='r')"
   ]
  },
  {
   "cell_type": "code",
   "execution_count": 6,
   "metadata": {
    "execution": {
     "iopub.execute_input": "2023-01-06T20:53:55.827482Z",
     "iopub.status.busy": "2023-01-06T20:53:55.826456Z",
     "iopub.status.idle": "2023-01-06T20:54:05.590027Z",
     "shell.execute_reply": "2023-01-06T20:54:05.588954Z",
     "shell.execute_reply.started": "2023-01-06T20:53:55.827442Z"
    }
   },
   "outputs": [
    {
     "name": "stderr",
     "output_type": "stream",
     "text": [
      "100%|█████████████████████████████| 1855603/1855603 [00:04<00:00, 382620.38it/s]\n"
     ]
    }
   ],
   "source": [
    "#vektör çıkarma\n",
    "from tqdm import tqdm\n",
    "vectors = []\n",
    "for aid in tqdm(aids):\n",
    "    vectors.append(wv[aid].tolist())"
   ]
  },
  {
   "cell_type": "code",
   "execution_count": 7,
   "metadata": {
    "execution": {
     "iopub.execute_input": "2023-01-06T20:54:05.592360Z",
     "iopub.status.busy": "2023-01-06T20:54:05.592035Z",
     "iopub.status.idle": "2023-01-06T20:54:17.351243Z",
     "shell.execute_reply": "2023-01-06T20:54:17.350019Z",
     "shell.execute_reply.started": "2023-01-06T20:54:05.592330Z"
    }
   },
   "outputs": [
    {
     "data": {
      "text/plain": [
       "0"
      ]
     },
     "execution_count": 7,
     "metadata": {},
     "output_type": "execute_result"
    }
   ],
   "source": [
    "aid_vectors = pd.concat([pd.Series(aids,name='aid'),pd.Series(vectors,name='vectors')],axis=1)\n",
    "aid_vectors.to_parquet(f'./all_features/{GENERATE_FOR}_w2v_aid_vectors.pqt')\n",
    "del aid_vectors,vectors;gc.collect()"
   ]
  },
  {
   "cell_type": "markdown",
   "metadata": {},
   "source": [
    "### Approximate NN for Similarity Score"
   ]
  },
  {
   "cell_type": "code",
   "execution_count": 8,
   "metadata": {
    "execution": {
     "iopub.execute_input": "2023-01-06T20:54:17.353620Z",
     "iopub.status.busy": "2023-01-06T20:54:17.352912Z",
     "iopub.status.idle": "2023-01-06T20:54:53.441742Z",
     "shell.execute_reply": "2023-01-06T20:54:53.440027Z",
     "shell.execute_reply.started": "2023-01-06T20:54:17.353570Z"
    }
   },
   "outputs": [
    {
     "data": {
      "text/plain": [
       "True"
      ]
     },
     "execution_count": 8,
     "metadata": {},
     "output_type": "execute_result"
    }
   ],
   "source": [
    "#annoy indexleme ve build\n",
    "from annoy import AnnoyIndex\n",
    "\n",
    "aid2idx = {aid: i for i, aid in enumerate(wv.index_to_key)}\n",
    "annoy = AnnoyIndex(VECTOR_SIZE, 'euclidean')\n",
    "\n",
    "for aid, idx in aid2idx.items():\n",
    "    annoy.add_item(idx, wv.vectors[idx])\n",
    "    \n",
    "annoy.build(20)"
   ]
  },
  {
   "cell_type": "code",
   "execution_count": 9,
   "metadata": {
    "execution": {
     "iopub.execute_input": "2023-01-06T20:55:42.656003Z",
     "iopub.status.busy": "2023-01-06T20:55:42.655507Z",
     "iopub.status.idle": "2023-01-06T20:55:55.407277Z",
     "shell.execute_reply": "2023-01-06T20:55:55.406144Z",
     "shell.execute_reply.started": "2023-01-06T20:55:42.655964Z"
    }
   },
   "outputs": [],
   "source": [
    "aid_vectors = pd.read_parquet(f'./all_features/{GENERATE_FOR}_w2v_aid_vectors.pqt')"
   ]
  },
  {
   "cell_type": "code",
   "execution_count": 10,
   "metadata": {
    "execution": {
     "iopub.execute_input": "2023-01-06T20:55:55.410509Z",
     "iopub.status.busy": "2023-01-06T20:55:55.409935Z",
     "iopub.status.idle": "2023-01-06T20:55:55.436034Z",
     "shell.execute_reply": "2023-01-06T20:55:55.435061Z",
     "shell.execute_reply.started": "2023-01-06T20:55:55.410458Z"
    }
   },
   "outputs": [
    {
     "data": {
      "text/html": [
       "<div>\n",
       "<style scoped>\n",
       "    .dataframe tbody tr th:only-of-type {\n",
       "        vertical-align: middle;\n",
       "    }\n",
       "\n",
       "    .dataframe tbody tr th {\n",
       "        vertical-align: top;\n",
       "    }\n",
       "\n",
       "    .dataframe thead th {\n",
       "        text-align: right;\n",
       "    }\n",
       "</style>\n",
       "<table border=\"1\" class=\"dataframe\">\n",
       "  <thead>\n",
       "    <tr style=\"text-align: right;\">\n",
       "      <th></th>\n",
       "      <th>aid</th>\n",
       "      <th>vectors</th>\n",
       "    </tr>\n",
       "  </thead>\n",
       "  <tbody>\n",
       "    <tr>\n",
       "      <th>0</th>\n",
       "      <td>0</td>\n",
       "      <td>[-0.009594175964593887, -0.0046624355018138885...</td>\n",
       "    </tr>\n",
       "    <tr>\n",
       "      <th>1</th>\n",
       "      <td>1</td>\n",
       "      <td>[0.009859923273324966, 0.01693369820713997, -0...</td>\n",
       "    </tr>\n",
       "    <tr>\n",
       "      <th>2</th>\n",
       "      <td>2</td>\n",
       "      <td>[0.024817336350679398, 0.0001684240996837616, ...</td>\n",
       "    </tr>\n",
       "    <tr>\n",
       "      <th>3</th>\n",
       "      <td>3</td>\n",
       "      <td>[-0.014050107449293137, -0.02541998401284218, ...</td>\n",
       "    </tr>\n",
       "    <tr>\n",
       "      <th>4</th>\n",
       "      <td>4</td>\n",
       "      <td>[0.030481863766908646, 0.02337062731385231, -0...</td>\n",
       "    </tr>\n",
       "    <tr>\n",
       "      <th>...</th>\n",
       "      <td>...</td>\n",
       "      <td>...</td>\n",
       "    </tr>\n",
       "    <tr>\n",
       "      <th>1855598</th>\n",
       "      <td>1855598</td>\n",
       "      <td>[0.0006951577961444855, -0.02836809679865837, ...</td>\n",
       "    </tr>\n",
       "    <tr>\n",
       "      <th>1855599</th>\n",
       "      <td>1855599</td>\n",
       "      <td>[-0.02160932496190071, 0.012220602482557297, 0...</td>\n",
       "    </tr>\n",
       "    <tr>\n",
       "      <th>1855600</th>\n",
       "      <td>1855600</td>\n",
       "      <td>[0.004274539649486542, 0.02614506706595421, -0...</td>\n",
       "    </tr>\n",
       "    <tr>\n",
       "      <th>1855601</th>\n",
       "      <td>1855601</td>\n",
       "      <td>[0.020589202642440796, 0.01697468012571335, -0...</td>\n",
       "    </tr>\n",
       "    <tr>\n",
       "      <th>1855602</th>\n",
       "      <td>1855602</td>\n",
       "      <td>[-0.00375182181596756, 0.02796965464949608, -0...</td>\n",
       "    </tr>\n",
       "  </tbody>\n",
       "</table>\n",
       "<p>1855603 rows × 2 columns</p>\n",
       "</div>"
      ],
      "text/plain": [
       "             aid                                            vectors\n",
       "0              0  [-0.009594175964593887, -0.0046624355018138885...\n",
       "1              1  [0.009859923273324966, 0.01693369820713997, -0...\n",
       "2              2  [0.024817336350679398, 0.0001684240996837616, ...\n",
       "3              3  [-0.014050107449293137, -0.02541998401284218, ...\n",
       "4              4  [0.030481863766908646, 0.02337062731385231, -0...\n",
       "...          ...                                                ...\n",
       "1855598  1855598  [0.0006951577961444855, -0.02836809679865837, ...\n",
       "1855599  1855599  [-0.02160932496190071, 0.012220602482557297, 0...\n",
       "1855600  1855600  [0.004274539649486542, 0.02614506706595421, -0...\n",
       "1855601  1855601  [0.020589202642440796, 0.01697468012571335, -0...\n",
       "1855602  1855602  [-0.00375182181596756, 0.02796965464949608, -0...\n",
       "\n",
       "[1855603 rows x 2 columns]"
      ]
     },
     "execution_count": 10,
     "metadata": {},
     "output_type": "execute_result"
    }
   ],
   "source": [
    "aid_vectors"
   ]
  },
  {
   "cell_type": "code",
   "execution_count": 11,
   "metadata": {
    "execution": {
     "iopub.execute_input": "2023-01-06T20:55:55.438608Z",
     "iopub.status.busy": "2023-01-06T20:55:55.437545Z",
     "iopub.status.idle": "2023-01-06T20:55:55.446127Z",
     "shell.execute_reply": "2023-01-06T20:55:55.444925Z",
     "shell.execute_reply.started": "2023-01-06T20:55:55.438564Z"
    }
   },
   "outputs": [],
   "source": [
    "def annoy_get_distance(aid1,aid2,aid2idx,annoy):\n",
    "    return annoy.get_distance(aid2idx[aid1], aid2idx[aid2])"
   ]
  },
  {
   "cell_type": "code",
   "execution_count": 21,
   "metadata": {
    "execution": {
     "iopub.execute_input": "2023-01-06T20:58:49.831471Z",
     "iopub.status.busy": "2023-01-06T20:58:49.830542Z",
     "iopub.status.idle": "2023-01-06T21:03:47.171078Z",
     "shell.execute_reply": "2023-01-06T21:03:47.166545Z",
     "shell.execute_reply.started": "2023-01-06T20:58:49.831431Z"
    }
   },
   "outputs": [
    {
     "name": "stderr",
     "output_type": "stream",
     "text": [
      "  0%|                                                     | 0/3 [00:00<?, ?it/s]\n",
      "  0%|                                                     | 0/4 [00:00<?, ?it/s]\u001b[A"
     ]
    },
    {
     "name": "stdout",
     "output_type": "stream",
     "text": [
      "../raw_data/kaggle_covisitation/kaggle_top_100_clicks_v6_0.pqt\n"
     ]
    },
    {
     "data": {
      "text/html": [
       "<div>\n",
       "<style scoped>\n",
       "    .dataframe tbody tr th:only-of-type {\n",
       "        vertical-align: middle;\n",
       "    }\n",
       "\n",
       "    .dataframe tbody tr th {\n",
       "        vertical-align: top;\n",
       "    }\n",
       "\n",
       "    .dataframe thead th {\n",
       "        text-align: right;\n",
       "    }\n",
       "</style>\n",
       "<table border=\"1\" class=\"dataframe\">\n",
       "  <thead>\n",
       "    <tr style=\"text-align: right;\">\n",
       "      <th></th>\n",
       "      <th>aid_x</th>\n",
       "      <th>aid_y</th>\n",
       "      <th>wgt</th>\n",
       "    </tr>\n",
       "  </thead>\n",
       "  <tbody>\n",
       "    <tr>\n",
       "      <th>0</th>\n",
       "      <td>0</td>\n",
       "      <td>532042</td>\n",
       "      <td>21.146194</td>\n",
       "    </tr>\n",
       "    <tr>\n",
       "      <th>1</th>\n",
       "      <td>0</td>\n",
       "      <td>643097</td>\n",
       "      <td>17.376019</td>\n",
       "    </tr>\n",
       "    <tr>\n",
       "      <th>2</th>\n",
       "      <td>0</td>\n",
       "      <td>1735605</td>\n",
       "      <td>11.612320</td>\n",
       "    </tr>\n",
       "    <tr>\n",
       "      <th>3</th>\n",
       "      <td>0</td>\n",
       "      <td>1848174</td>\n",
       "      <td>11.013269</td>\n",
       "    </tr>\n",
       "    <tr>\n",
       "      <th>4</th>\n",
       "      <td>0</td>\n",
       "      <td>706401</td>\n",
       "      <td>9.668176</td>\n",
       "    </tr>\n",
       "    <tr>\n",
       "      <th>...</th>\n",
       "      <td>...</td>\n",
       "      <td>...</td>\n",
       "      <td>...</td>\n",
       "    </tr>\n",
       "    <tr>\n",
       "      <th>104361006</th>\n",
       "      <td>464999</td>\n",
       "      <td>1341546</td>\n",
       "      <td>1.836428</td>\n",
       "    </tr>\n",
       "    <tr>\n",
       "      <th>104361007</th>\n",
       "      <td>464999</td>\n",
       "      <td>1402087</td>\n",
       "      <td>1.836428</td>\n",
       "    </tr>\n",
       "    <tr>\n",
       "      <th>104361008</th>\n",
       "      <td>464999</td>\n",
       "      <td>1714562</td>\n",
       "      <td>1.836428</td>\n",
       "    </tr>\n",
       "    <tr>\n",
       "      <th>104361009</th>\n",
       "      <td>464999</td>\n",
       "      <td>1783302</td>\n",
       "      <td>1.836428</td>\n",
       "    </tr>\n",
       "    <tr>\n",
       "      <th>104361010</th>\n",
       "      <td>464999</td>\n",
       "      <td>1806156</td>\n",
       "      <td>1.836428</td>\n",
       "    </tr>\n",
       "  </tbody>\n",
       "</table>\n",
       "<p>29696582 rows × 3 columns</p>\n",
       "</div>"
      ],
      "text/plain": [
       "            aid_x    aid_y        wgt\n",
       "0               0   532042  21.146194\n",
       "1               0   643097  17.376019\n",
       "2               0  1735605  11.612320\n",
       "3               0  1848174  11.013269\n",
       "4               0   706401   9.668176\n",
       "...           ...      ...        ...\n",
       "104361006  464999  1341546   1.836428\n",
       "104361007  464999  1402087   1.836428\n",
       "104361008  464999  1714562   1.836428\n",
       "104361009  464999  1783302   1.836428\n",
       "104361010  464999  1806156   1.836428\n",
       "\n",
       "[29696582 rows x 3 columns]"
      ]
     },
     "metadata": {},
     "output_type": "display_data"
    },
    {
     "name": "stderr",
     "output_type": "stream",
     "text": [
      "  0%|                                                     | 0/4 [00:01<?, ?it/s]\n",
      "  0%|                                                     | 0/3 [00:01<?, ?it/s]\n"
     ]
    },
    {
     "ename": "NameError",
     "evalue": "name 'k' is not defined",
     "output_type": "error",
     "traceback": [
      "\u001b[0;31m---------------------------------------------------------------------------\u001b[0m",
      "\u001b[0;31mNameError\u001b[0m                                 Traceback (most recent call last)",
      "Cell \u001b[0;32mIn [21], line 10\u001b[0m\n\u001b[1;32m      8\u001b[0m temp_df \u001b[38;5;241m=\u001b[39m pd\u001b[38;5;241m.\u001b[39mread_parquet(pqt_file)\n\u001b[1;32m      9\u001b[0m display(temp_df)\n\u001b[0;32m---> 10\u001b[0m \u001b[38;5;28mprint\u001b[39m(\u001b[43mk\u001b[49m)\n\u001b[1;32m     11\u001b[0m similarities \u001b[38;5;241m=\u001b[39m []\n\u001b[1;32m     12\u001b[0m temp_df[\u001b[38;5;124m'\u001b[39m\u001b[38;5;124msimilarity\u001b[39m\u001b[38;5;124m'\u001b[39m] \u001b[38;5;241m=\u001b[39m temp_df\u001b[38;5;241m.\u001b[39mparallel_apply(\u001b[38;5;28;01mlambda\u001b[39;00m x: annoy_get_distance(x[\u001b[38;5;124m'\u001b[39m\u001b[38;5;124maid_x\u001b[39m\u001b[38;5;124m'\u001b[39m],x[\u001b[38;5;124m'\u001b[39m\u001b[38;5;124maid_y\u001b[39m\u001b[38;5;124m'\u001b[39m],aid2idx,annoy),axis\u001b[38;5;241m=\u001b[39m\u001b[38;5;241m1\u001b[39m)\n",
      "\u001b[0;31mNameError\u001b[0m: name 'k' is not defined"
     ]
    }
   ],
   "source": [
    "from pathlib import Path\n",
    "data_dir = Path(f\"../raw_data/{GENERATE_FOR}_covisitation\") #covisitation path'i\n",
    "for type_str in tqdm(['clicks','carts','buy2buy']): # typelar\n",
    "    part = 0\n",
    "    whole_out_df = []\n",
    "    for pqt_file in tqdm(sorted(data_dir.glob(f'{GENERATE_FOR}_top_{CANDIDATES}_{type_str}*'))): #ilgili type'a ait filelar\n",
    "        print(pqt_file)\n",
    "        temp_df = pd.read_parquet(pqt_file)\n",
    "        display(temp_df)\n",
    "        print(k)\n",
    "        similarities = []\n",
    "        temp_df['similarity'] = temp_df.parallel_apply(lambda x: annoy_get_distance(x['aid_x'],x['aid_y'],aid2idx,annoy),axis=1)\n",
    "        whole_out_df.append(temp_df)\n",
    "        part += 1\n",
    "        del temp_df; gc.collect()\n",
    "    whole_out_df = pd.concat(whole_out_df, ignore_index=True)\n",
    "    whole_out_df.to_parquet(f'./all_features/{GENERATE_FOR}_top_{CANDIDATES}_{type_str}_w2v_similarities.pqt')"
   ]
  },
  {
   "cell_type": "code",
   "execution_count": 13,
   "metadata": {},
   "outputs": [
    {
     "data": {
      "text/html": [
       "<div>\n",
       "<style scoped>\n",
       "    .dataframe tbody tr th:only-of-type {\n",
       "        vertical-align: middle;\n",
       "    }\n",
       "\n",
       "    .dataframe tbody tr th {\n",
       "        vertical-align: top;\n",
       "    }\n",
       "\n",
       "    .dataframe thead th {\n",
       "        text-align: right;\n",
       "    }\n",
       "</style>\n",
       "<table border=\"1\" class=\"dataframe\">\n",
       "  <thead>\n",
       "    <tr style=\"text-align: right;\">\n",
       "      <th></th>\n",
       "      <th>aid_x</th>\n",
       "      <th>aid_y</th>\n",
       "      <th>wgt</th>\n",
       "      <th>similarity</th>\n",
       "    </tr>\n",
       "  </thead>\n",
       "  <tbody>\n",
       "    <tr>\n",
       "      <th>0</th>\n",
       "      <td>1</td>\n",
       "      <td>279811</td>\n",
       "      <td>1.0</td>\n",
       "      <td>0.145617</td>\n",
       "    </tr>\n",
       "    <tr>\n",
       "      <th>1</th>\n",
       "      <td>1</td>\n",
       "      <td>850666</td>\n",
       "      <td>1.0</td>\n",
       "      <td>0.129335</td>\n",
       "    </tr>\n",
       "    <tr>\n",
       "      <th>2</th>\n",
       "      <td>1</td>\n",
       "      <td>886584</td>\n",
       "      <td>1.0</td>\n",
       "      <td>0.162573</td>\n",
       "    </tr>\n",
       "    <tr>\n",
       "      <th>3</th>\n",
       "      <td>1</td>\n",
       "      <td>1533875</td>\n",
       "      <td>1.0</td>\n",
       "      <td>0.149362</td>\n",
       "    </tr>\n",
       "    <tr>\n",
       "      <th>4</th>\n",
       "      <td>1</td>\n",
       "      <td>1708199</td>\n",
       "      <td>1.0</td>\n",
       "      <td>0.132836</td>\n",
       "    </tr>\n",
       "    <tr>\n",
       "      <th>...</th>\n",
       "      <td>...</td>\n",
       "      <td>...</td>\n",
       "      <td>...</td>\n",
       "      <td>...</td>\n",
       "    </tr>\n",
       "    <tr>\n",
       "      <th>39858020</th>\n",
       "      <td>1855601</td>\n",
       "      <td>1636201</td>\n",
       "      <td>1.0</td>\n",
       "      <td>0.146724</td>\n",
       "    </tr>\n",
       "    <tr>\n",
       "      <th>39858021</th>\n",
       "      <td>1855601</td>\n",
       "      <td>1758603</td>\n",
       "      <td>1.0</td>\n",
       "      <td>0.158609</td>\n",
       "    </tr>\n",
       "    <tr>\n",
       "      <th>39858022</th>\n",
       "      <td>1855601</td>\n",
       "      <td>1783314</td>\n",
       "      <td>1.0</td>\n",
       "      <td>0.125374</td>\n",
       "    </tr>\n",
       "    <tr>\n",
       "      <th>39858023</th>\n",
       "      <td>1855601</td>\n",
       "      <td>1791916</td>\n",
       "      <td>1.0</td>\n",
       "      <td>0.137869</td>\n",
       "    </tr>\n",
       "    <tr>\n",
       "      <th>39858024</th>\n",
       "      <td>1855601</td>\n",
       "      <td>1822107</td>\n",
       "      <td>1.0</td>\n",
       "      <td>0.165493</td>\n",
       "    </tr>\n",
       "  </tbody>\n",
       "</table>\n",
       "<p>39858025 rows × 4 columns</p>\n",
       "</div>"
      ],
      "text/plain": [
       "            aid_x    aid_y  wgt  similarity\n",
       "0               1   279811  1.0    0.145617\n",
       "1               1   850666  1.0    0.129335\n",
       "2               1   886584  1.0    0.162573\n",
       "3               1  1533875  1.0    0.149362\n",
       "4               1  1708199  1.0    0.132836\n",
       "...           ...      ...  ...         ...\n",
       "39858020  1855601  1636201  1.0    0.146724\n",
       "39858021  1855601  1758603  1.0    0.158609\n",
       "39858022  1855601  1783314  1.0    0.125374\n",
       "39858023  1855601  1791916  1.0    0.137869\n",
       "39858024  1855601  1822107  1.0    0.165493\n",
       "\n",
       "[39858025 rows x 4 columns]"
      ]
     },
     "execution_count": 13,
     "metadata": {},
     "output_type": "execute_result"
    }
   ],
   "source": [
    "whole_out_df"
   ]
  },
  {
   "cell_type": "code",
   "execution_count": 22,
   "metadata": {},
   "outputs": [
    {
     "data": {
      "text/plain": [
       "<AxesSubplot: >"
      ]
     },
     "execution_count": 22,
     "metadata": {},
     "output_type": "execute_result"
    },
    {
     "data": {
      "image/png": "[encoded data removed]",
      "text/plain": [
       "<Figure size 640x480 with 1 Axes>"
      ]
     },
     "metadata": {},
     "output_type": "display_data"
    }
   ],
   "source": [
    "pd.read_parquet(f'./all_features/kaggle_top_{CANDIDATES}_{type_str}_w2v_similarities.pqt').similarity.hist()"
   ]
  },
  {
   "cell_type": "code",
   "execution_count": 23,
   "metadata": {},
   "outputs": [
    {
     "data": {
      "text/plain": [
       "<AxesSubplot: >"
      ]
     },
     "execution_count": 23,
     "metadata": {},
     "output_type": "execute_result"
    },
    {
     "data": {
      "image/png": "[encoded data removed]",
      "text/plain": [
       "<Figure size 640x480 with 1 Axes>"
      ]
     },
     "metadata": {},
     "output_type": "display_data"
    }
   ],
   "source": [
    "pd.read_parquet(f'./all_features/local_top_{CANDIDATES}_{type_str}_w2v_similarities.pqt').similarity.hist()"
   ]
  },
  {
   "cell_type": "code",
   "execution_count": 24,
   "metadata": {},
   "outputs": [
    {
     "name": "stdout",
     "output_type": "stream",
     "text": [
      "Package                  Version\r\n",
      "------------------------ -----------\r\n",
      "aiohttp                  3.8.3\r\n",
      "aiosignal                1.3.1\r\n",
      "alembic                  1.8.1\r\n",
      "annoy                    1.17.1\r\n",
      "anyio                    3.6.2\r\n",
      "argon2-cffi              21.3.0\r\n",
      "argon2-cffi-bindings     21.2.0\r\n",
      "asttokens                2.1.0\r\n",
      "async-timeout            4.0.2\r\n",
      "attrs                    22.1.0\r\n",
      "autopage                 0.5.1\r\n",
      "backcall                 0.2.0\r\n",
      "beautifulsoup4           4.11.1\r\n",
      "bleach                   5.0.1\r\n",
      "brotlipy                 0.7.0\r\n",
      "cachetools               5.2.0\r\n",
      "catboost                 1.1.1\r\n",
      "certifi                  2022.9.24\r\n",
      "cffi                     1.15.1\r\n",
      "charset-normalizer       2.0.4\r\n",
      "click                    8.1.3\r\n",
      "cliff                    4.1.0\r\n",
      "cloudpickle              2.2.0\r\n",
      "cmaes                    0.9.0\r\n",
      "cmd2                     2.4.2\r\n",
      "colorlog                 6.7.0\r\n",
      "contourpy                1.0.6\r\n",
      "convertdate              2.4.0\r\n",
      "cryptography             38.0.1\r\n",
      "cubinlinker-cu11         0.3.0\r\n",
      "cuda-python              11.7.0\r\n",
      "cudf-cu11                22.10.0\r\n",
      "cugraph-cu11             22.10.0\r\n",
      "cuml-cu11                22.10.0\r\n",
      "cupy-cuda115             10.6.0\r\n",
      "cycler                   0.11.0\r\n",
      "Cython                   0.29.32\r\n",
      "dask                     2022.9.2\r\n",
      "dask-cuda                22.10.0\r\n",
      "dask-cudf-cu11           22.10.0\r\n",
      "debugpy                  1.6.3\r\n",
      "decorator                5.1.1\r\n",
      "defusedxml               0.7.1\r\n",
      "dill                     0.3.6\r\n",
      "distributed              2022.9.2\r\n",
      "entrypoints              0.4\r\n",
      "executing                1.2.0\r\n",
      "fastjsonschema           2.16.2\r\n",
      "fastrlock                0.8\r\n",
      "filelock                 3.8.0\r\n",
      "fire                     0.4.0\r\n",
      "fonttools                4.38.0\r\n",
      "frozenlist               1.3.3\r\n",
      "fsspec                   2022.10.0\r\n",
      "fst-pso                  1.8.1\r\n",
      "FuzzyTM                  2.0.5\r\n",
      "gensim                   4.3.0\r\n",
      "graphviz                 0.20.1\r\n",
      "greenlet                 2.0.1\r\n",
      "HeapDict                 1.0.1\r\n",
      "hijri-converter          2.2.4\r\n",
      "holidays                 0.17.2\r\n",
      "huggingface-hub          0.10.1\r\n",
      "idna                     3.4\r\n",
      "imbalanced-learn         0.10.0\r\n",
      "imblearn                 0.0\r\n",
      "importlib-metadata       4.13.0\r\n",
      "importlib-resources      5.10.0\r\n",
      "ipykernel                6.17.0\r\n",
      "ipython                  8.6.0\r\n",
      "ipython-genutils         0.2.0\r\n",
      "ipywidgets               8.0.3\r\n",
      "iterative-stratification 0.1.7\r\n",
      "jedi                     0.18.1\r\n",
      "Jinja2                   3.1.2\r\n",
      "joblib                   1.2.0\r\n",
      "jsonschema               4.16.0\r\n",
      "jupyter                  1.0.0\r\n",
      "jupyter_client           7.4.4\r\n",
      "jupyter-console          6.4.4\r\n",
      "jupyter_core             4.11.2\r\n",
      "jupyter-server           1.21.0\r\n",
      "jupyterlab-pygments      0.2.2\r\n",
      "jupyterlab-widgets       3.0.4\r\n",
      "kiwisolver               1.4.4\r\n",
      "korean-lunar-calendar    0.3.1\r\n",
      "lightgbm                 3.3.3\r\n",
      "lightning-utilities      0.3.0\r\n",
      "llvmlite                 0.39.1\r\n",
      "locket                   1.0.0\r\n",
      "lofo-importance          0.3.2\r\n",
      "lxml                     4.8.0\r\n",
      "Mako                     1.2.4\r\n",
      "MarkupSafe               2.1.1\r\n",
      "matplotlib               3.6.0\r\n",
      "matplotlib-inline        0.1.6\r\n",
      "miniful                  0.0.6\r\n",
      "mistune                  2.0.4\r\n",
      "mkl-fft                  1.3.1\r\n",
      "mkl-random               1.2.2\r\n",
      "mkl-service              2.4.0\r\n",
      "msgpack                  1.0.4\r\n",
      "multidict                6.0.2\r\n",
      "nbclassic                0.4.7\r\n",
      "nbclient                 0.7.0\r\n",
      "nbconvert                7.2.3\r\n",
      "nbformat                 5.7.0\r\n",
      "nest-asyncio             1.5.6\r\n",
      "networkx                 2.8.8\r\n",
      "notebook                 6.5.2\r\n",
      "notebook_shim            0.2.0\r\n",
      "numba                    0.56.3\r\n",
      "numpy                    1.23.3\r\n",
      "nvtx                     0.2.5\r\n",
      "optuna                   3.0.4\r\n",
      "packaging                21.3\r\n",
      "pandarallel              1.6.3\r\n",
      "pandas                   1.5.1\r\n",
      "pandocfilters            1.5.0\r\n",
      "parso                    0.8.3\r\n",
      "partd                    1.3.0\r\n",
      "pbr                      5.11.0\r\n",
      "pexpect                  4.8.0\r\n",
      "pickleshare              0.7.5\r\n",
      "Pillow                   9.2.0\r\n",
      "pip                      22.2.2\r\n",
      "pkgutil_resolve_name     1.3.10\r\n",
      "plotly                   5.11.0\r\n",
      "polars                   0.15.10\r\n",
      "prettytable              3.5.0\r\n",
      "probatus                 1.8.9\r\n",
      "prometheus-client        0.15.0\r\n",
      "prompt-toolkit           3.0.31\r\n",
      "protobuf                 3.20.1\r\n",
      "psutil                   5.9.3\r\n",
      "ptxcompiler-cu11         0.7.0\r\n",
      "ptyprocess               0.7.0\r\n",
      "pure-eval                0.2.2\r\n",
      "pyarrow                  9.0.0\r\n",
      "pycparser                2.21\r\n",
      "pyFUME                   0.2.25\r\n",
      "Pygments                 2.13.0\r\n",
      "pylibcugraph-cu11        22.10.0\r\n",
      "pylibraft-cu11           22.10.0\r\n",
      "PyMeeus                  0.5.11\r\n",
      "pynvml                   11.4.1\r\n",
      "pyOpenSSL                22.0.0\r\n",
      "pyparsing                3.0.9\r\n",
      "pyperclip                1.8.2\r\n",
      "pyrsistent               0.19.1\r\n",
      "PySocks                  1.7.1\r\n",
      "python-dateutil          2.8.2\r\n",
      "pytorch-lightning        1.8.3.post1\r\n",
      "pytz                     2022.6\r\n",
      "PyYAML                   6.0\r\n",
      "pyzmq                    24.0.1\r\n",
      "qtconsole                5.4.0\r\n",
      "QtPy                     2.3.0\r\n",
      "raft-dask-cu11           22.10.0\r\n",
      "regex                    2022.10.31\r\n",
      "requests                 2.28.1\r\n",
      "rmm-cu11                 22.10.0\r\n",
      "scikit-learn             1.1.3\r\n",
      "scipy                    1.8.1\r\n",
      "seaborn                  0.12.1\r\n",
      "Send2Trash               1.8.0\r\n",
      "sentencepiece            0.1.97\r\n",
      "setuptools               65.5.0\r\n",
      "shap                     0.38.1\r\n",
      "simpful                  2.9.0\r\n",
      "six                      1.16.0\r\n",
      "slicer                   0.0.7\r\n",
      "smart-open               6.3.0\r\n",
      "sniffio                  1.3.0\r\n",
      "sortedcontainers         2.4.0\r\n",
      "soupsieve                2.3.2.post1\r\n",
      "SQLAlchemy               1.4.44\r\n",
      "stack-data               0.6.0\r\n",
      "stevedore                4.1.1\r\n",
      "tblib                    1.7.0\r\n",
      "tenacity                 8.1.0\r\n",
      "tensorboardX             2.5.1\r\n",
      "termcolor                2.1.1\r\n",
      "terminado                0.17.0\r\n",
      "threadpoolctl            3.1.0\r\n",
      "tinycss2                 1.2.1\r\n",
      "tokenizers               0.13.2\r\n",
      "toolz                    0.12.0\r\n",
      "torch                    1.13.0\r\n",
      "torchaudio               0.13.0\r\n",
      "torchmetrics             0.10.3\r\n",
      "torchvision              0.14.0\r\n",
      "tornado                  6.2\r\n",
      "tqdm                     4.64.1\r\n",
      "traitlets                5.5.0\r\n",
      "transformers             4.24.0\r\n",
      "treelite                 3.0.0\r\n",
      "treelite-runtime         3.0.0\r\n",
      "typing_extensions        4.3.0\r\n",
      "ucx-py-cu11              0.28.0\r\n",
      "urllib3                  1.26.12\r\n",
      "wcwidth                  0.2.5\r\n",
      "webencodings             0.5.1\r\n",
      "websocket-client         1.4.1\r\n",
      "wheel                    0.37.1\r\n",
      "widgetsnbextension       4.0.4\r\n",
      "xgboost                  1.7.0\r\n",
      "xlrd                     2.0.1\r\n",
      "yarl                     1.8.1\r\n",
      "zict                     2.2.0\r\n",
      "zipp                     3.10.0\r\n"
     ]
    }
   ],
   "source": [
    "!pip list"
   ]
  },
  {
   "cell_type": "code",
   "execution_count": null,
   "metadata": {},
   "outputs": [],
   "source": []
  }
 ],
 "metadata": {
  "kernelspec": {
   "display_name": "Python 3 (ipykernel)",
   "language": "python",
   "name": "python3"
  },
  "language_info": {
   "codemirror_mode": {
    "name": "ipython",
    "version": 3
   },
   "file_extension": ".py",
   "mimetype": "text/x-python",
   "name": "python",
   "nbconvert_exporter": "python",
   "pygments_lexer": "ipython3",
   "version": "3.8.13"
  }
 },
 "nbformat": 4,
 "nbformat_minor": 4
}
